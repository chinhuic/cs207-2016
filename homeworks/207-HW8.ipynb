{
 "cells": [
  {
   "cell_type": "markdown",
   "metadata": {},
   "source": [
    "# HW8\n",
    "\n"
   ]
  },
  {
   "cell_type": "markdown",
   "metadata": {},
   "source": [
    "Here is a Linked list class (some of which was done few labs/classes back) . We'll use a linked list as a repository for bindings. We will consider an implementation where newer bindings for existing variables occur closer to the head in the linked list. Notice that we added a `repOK` which is an identity function. Take care to see where it is used."
   ]
  },
  {
   "cell_type": "code",
   "execution_count": 3,
   "metadata": {
    "collapsed": true
   },
   "outputs": [],
   "source": [
    "import reprlib, numbers\n",
    "\n",
    "\n",
    "class LL:\n",
    "    \"\"\"\n",
    "    Method index has been modified significantly\n",
    "    It is now  parametrized with a start point and an equality function\n",
    "    Additional doctests added below\n",
    "    \n",
    "    >>> A = LL()  \n",
    "    >>> A[0]\n",
    "    Traceback (most recent call last):\n",
    "        ...\n",
    "    IndexError: trying to index an empty LL\n",
    "    >>> A.insert_front(1)\n",
    "    >>> A[0]\n",
    "    1\n",
    "    >>> A.insert_back(2)\n",
    "    >>> A[1]\n",
    "    2\n",
    "    >>> A\n",
    "    LL([1,...])\n",
    "    >>> myll = LL.from_components([1,2,2])\n",
    "    >>> myll[1]\n",
    "    2\n",
    "    >>> len(myll)\n",
    "    3\n",
    "    >>> myll.index(2)\n",
    "    0\n",
    "    >>> myll.index(2,1)\n",
    "    1\n",
    "    >>> myll[3]\n",
    "    Traceback (most recent call last):\n",
    "        ...\n",
    "    IndexError: LL index out of range\n",
    "    >>> myll[0:1]\n",
    "    Traceback (most recent call last):\n",
    "        ...\n",
    "    TypeError: LL indices must be integers\n",
    "    \"\"\"\n",
    "    @classmethod\n",
    "    def from_components(cls, components):\n",
    "        inst = cls(components[0])\n",
    "        for c in components[1:]:\n",
    "            inst.insert_front(c)\n",
    "        return inst\n",
    "        \n",
    "    def repOK(self, element):\n",
    "        return element\n",
    "    \n",
    "    def __init__(self, head=None):\n",
    "        if head is None:\n",
    "            self._headNode = None\n",
    "        else:\n",
    "            head = self.repOK(head)\n",
    "            self._headNode = [head, None]\n",
    "            \n",
    "    def insert_front(self, element):\n",
    "        element = self.repOK(element)\n",
    "        new_node = [element, None]\n",
    "        new_node[1] = self._headNode\n",
    "        self._headNode = new_node\n",
    "        \n",
    "    def insert_back(self, element):\n",
    "        element = self.repOK(element)\n",
    "        new_node = [element, None]\n",
    "        curr_ptr = self._headNode\n",
    "        while curr_ptr[1] is not None:\n",
    "            curr_ptr = curr_ptr[1]\n",
    "        curr_ptr[1]= new_node\n",
    "        \n",
    "    def __repr__(self):\n",
    "        class_name = type(self).__name__\n",
    "        if len(self)==0:\n",
    "            components=\"\"\n",
    "        else:\n",
    "            components = reprlib.repr(self[0])\n",
    "        return '{}([{},...])'.format(class_name,components)\n",
    "\n",
    "\n",
    "    def __len__(self):\n",
    "        curr_ptr = self._headNode\n",
    "        count = 0\n",
    "        if curr_ptr==None:\n",
    "            return 0\n",
    "        while 1:\n",
    "            count = count + 1\n",
    "            if curr_ptr[1] is None:\n",
    "                break\n",
    "            curr_ptr = curr_ptr[1]\n",
    "        return count    \n",
    "    \n",
    "    def __getitem__(self, index):\n",
    "        class_name = type(self).__name__\n",
    "        if isinstance(index, numbers.Integral): \n",
    "            curr_ptr = self._headNode\n",
    "            if curr_ptr==None:\n",
    "                msg = 'trying to index an empty {class_name}' \n",
    "                raise IndexError(msg.format(class_name=class_name))\n",
    "            next_ptr = self._headNode[1]\n",
    "            count = 0\n",
    "            while 1:\n",
    "                if index == count:\n",
    "                    return curr_ptr[0]\n",
    "                if curr_ptr[1] is None:\n",
    "                    msg = '{class_name} index out of range' \n",
    "                    raise IndexError(msg.format(class_name=class_name))       \n",
    "                count += 1\n",
    "                curr_ptr = curr_ptr[1]\n",
    "        else:\n",
    "            msg = '{class_name} indices must be integers' \n",
    "            raise TypeError(msg.format(class_name=class_name))\n",
    "            \n",
    "            \n",
    "    # index method begins search for element from start index defaulted to 0\n",
    "    # allows method index to begin search from parametrized start position\n",
    "    # equalityFunc with default to equality operator\n",
    "    # allows subclasses to parametrize definition of equality\n",
    "    def index(self, element, start=0, equalityFunc=lambda a, b : a==b):\n",
    "        class_name = type(self).__name__\n",
    "        curr_ptr = self._headNode\n",
    "        count = 0     \n",
    "        if curr_ptr==None:\n",
    "            msg = 'trying to get index from empty {class_name}' \n",
    "            raise IndexError(msg.format(class_name=class_name))        \n",
    "        while ((count != start) and (curr_ptr[1] != None)):           \n",
    "            count += 1\n",
    "            curr_ptr = curr_ptr[1]   \n",
    "        if (count == start):    \n",
    "            while 1:\n",
    "                # comparison between curr node and element\n",
    "                if equalityFunc(curr_ptr[0], element):\n",
    "                    return count\n",
    "                if curr_ptr[1] is None:\n",
    "                    msg = '{element} is not in {class_name}' \n",
    "                    raise ValueError(msg.format(element=element, class_name=class_name))\n",
    "                count += 1\n",
    "                curr_ptr = curr_ptr[1]\n",
    "        else:\n",
    "            msg = '{element} is not in {class_name}' \n",
    "            raise ValueError(msg.format(element=element, class_name=class_name))\n",
    "            \n",
    "    def remove(self, element):\n",
    "        class_name = type(self).__name__\n",
    "        curr_ptr = self._headNode\n",
    "        prev_ptr = None\n",
    "        if curr_ptr==None:\n",
    "            msg = 'remove from empty {class_name}' \n",
    "            raise IndexError(msg.format(class_name=class_name))\n",
    "        while 1:\n",
    "            if curr_ptr[0] == element:\n",
    "                if prev_ptr is None:\n",
    "                    self._headNode = curr_ptr[1]\n",
    "                else:\n",
    "                    prev_ptr[1] = curr_ptr[1]\n",
    "                return None\n",
    "            if curr_ptr[1] is None:\n",
    "                msg = '{element} is not in {class_name}' \n",
    "                raise ValueError(msg.format(element=element, class_name=class_name))\n",
    "            prev_ptr=curr_ptr\n",
    "            curr_ptr = curr_ptr[1]\n",
    "        \n",
    "    def remove_front(self):\n",
    "        class_name = type(self).__name__\n",
    "        curr_ptr = self._headNode\n",
    "        if curr_ptr==None:\n",
    "            msg = 'remove from empty {class_name}' \n",
    "            raise IndexError(msg.format(class_name=class_name))\n",
    "        self._headNode = curr_ptr[1]\n",
    "        return curr_ptr[0]\n",
    "    "
   ]
  },
  {
   "cell_type": "code",
   "execution_count": 4,
   "metadata": {
    "collapsed": false
   },
   "outputs": [
    {
     "name": "stdout",
     "output_type": "stream",
     "text": [
      "Finding tests in NoName\n",
      "Trying:\n",
      "    A = LL()  \n",
      "Expecting nothing\n",
      "ok\n",
      "Trying:\n",
      "    A[0]\n",
      "Expecting:\n",
      "    Traceback (most recent call last):\n",
      "        ...\n",
      "    IndexError: trying to index an empty LL\n",
      "ok\n",
      "Trying:\n",
      "    A.insert_front(1)\n",
      "Expecting nothing\n",
      "ok\n",
      "Trying:\n",
      "    A[0]\n",
      "Expecting:\n",
      "    1\n",
      "ok\n",
      "Trying:\n",
      "    A.insert_back(2)\n",
      "Expecting nothing\n",
      "ok\n",
      "Trying:\n",
      "    A[1]\n",
      "Expecting:\n",
      "    2\n",
      "ok\n",
      "Trying:\n",
      "    A\n",
      "Expecting:\n",
      "    LL([1,...])\n",
      "ok\n",
      "Trying:\n",
      "    myll = LL.from_components([1,2,2])\n",
      "Expecting nothing\n",
      "ok\n",
      "Trying:\n",
      "    myll[1]\n",
      "Expecting:\n",
      "    2\n",
      "ok\n",
      "Trying:\n",
      "    len(myll)\n",
      "Expecting:\n",
      "    3\n",
      "ok\n",
      "Trying:\n",
      "    myll.index(2)\n",
      "Expecting:\n",
      "    0\n",
      "ok\n",
      "Trying:\n",
      "    myll.index(2,1)\n",
      "Expecting:\n",
      "    1\n",
      "ok\n",
      "Trying:\n",
      "    myll[3]\n",
      "Expecting:\n",
      "    Traceback (most recent call last):\n",
      "        ...\n",
      "    IndexError: LL index out of range\n",
      "ok\n",
      "Trying:\n",
      "    myll[0:1]\n",
      "Expecting:\n",
      "    Traceback (most recent call last):\n",
      "        ...\n",
      "    TypeError: LL indices must be integers\n",
      "ok\n"
     ]
    }
   ],
   "source": [
    "from doctest import run_docstring_examples as dtest\n",
    "dtest(LL, globals(), verbose=True)"
   ]
  },
  {
   "cell_type": "code",
   "execution_count": 5,
   "metadata": {
    "collapsed": true
   },
   "outputs": [],
   "source": [
    "import abc\n",
    "class Environment(abc.ABC):\n",
    "    \"\"\"\n",
    "    This is the interface for an Environment. The client for \n",
    "    this interface is a language intepreter. \n",
    "    \"\"\"\n",
    "    @classmethod\n",
    "    @abc.abstractmethod\n",
    "    def empty(cls):\n",
    "        return cls()\n",
    "    \n",
    "    @abc.abstractmethod\n",
    "    def extend(self, variable, value):\n",
    "        \"\"\"\n",
    "        extend an existing environment by binding variable to value.\n",
    "        The values must be an acceptable value in the language. If the\n",
    "        same variable is used twice the newer value must be bound.\n",
    "        \"\"\"\n",
    "    \n",
    "    @abc.abstractmethod\n",
    "    def extend_many(self, envdict):\n",
    "        \"\"\"\n",
    "        extend the current environment by values in the dictionary\n",
    "        envdict. If the dictionary contains variables already in the\n",
    "        environment, the newer values from the dictionary are bound\n",
    "        \"\"\"\n",
    "        \n",
    "    @abc.abstractmethod\n",
    "    def lookup(variable):\n",
    "        \"\"\"\n",
    "        return the unique binding of the variable and the environment it was bound\n",
    "        in as a tuple. If it is not found raise a NameError as below\n",
    "        \"\"\"\n",
    "        raise NameError(\"{} not found in Environment\".format(variable))"
   ]
  },
  {
   "cell_type": "markdown",
   "metadata": {},
   "source": [
    "### Q1\n",
    "\n",
    "Lets inherit from class `LL` to create a TupleLL where the values in the linked list are tuples of the type `(key, value)`. \n",
    "\n",
    "After inheriting, add an additional method `first_match` which returns a tuple `(index_of_nearest_element, nearest element)` to the head where the first member of the tuple matches `key`. \n",
    "\n",
    "Also add another method `all_matches` which returns a list of tuples of allmatches, sorted by distance to head. Currently, the structure of the other methods in the linked list do not need to know about this 2-element tuple restriction on the elements. "
   ]
  },
  {
   "cell_type": "code",
   "execution_count": 42,
   "metadata": {
    "collapsed": false
   },
   "outputs": [],
   "source": [
    "class TupleLL(LL):\n",
    "    \"\"\"\n",
    "    A linked list whose elements must be tuples.\n",
    "    \n",
    "    RepInv: any insertion should leave a list with only tuples as members.\n",
    "    PRE: Elements must be tuples\n",
    "    \n",
    "    >>> myll = TupleLL.from_components([('a', 1),('b', 2), ('hiii', 2), ('hiii', 1)])  \n",
    "    >>> myll.first_match('hiii')\n",
    "    (0, ('hiii', 1))\n",
    "    >>> myll.first_match('b')\n",
    "    (2, ('b', 2))\n",
    "    >>> myll.all_matches('hiii')\n",
    "    [(0, ('hiii', 1)), (1, ('hiii', 2))]\n",
    "\n",
    "    \"\"\"\n",
    "    #could be implemented using a check on the whole list\n",
    "    def repOK(self, element):\n",
    "        assert isinstance(element, tuple), \"element needs to be a tuple\"\n",
    "        return element\n",
    "    \n",
    "    # your code here\n",
    "    # matching key to the first value in list element tuple\n",
    "    # note the use of anonymous equality function parameter \n",
    "    # in method index inherited from class LL\n",
    "    # note the use of [0] to extract the key in the tuple    \n",
    "    def first_match(self, key):\n",
    "        i = self.index(key, 0, lambda a, b : a[0] == b)\n",
    "        matching_element = self[i]\n",
    "        return (i, matching_element)\n",
    "    \n",
    "    # returns a list of tuples of allmatches, sorted by distance to head\n",
    "    # matching key to value in the list element tuple\n",
    "    # return empty list if there are no matches, in the except block\n",
    "    # note i is incremented from the position of last match to look for the next match\n",
    "    # append function allows list of tuples to be sorted by distance to head\n",
    "    def all_matches(self, key):\n",
    "        class_name = type(self).__name__\n",
    "        i = 0\n",
    "        matchList = []\n",
    "        try: \n",
    "            while True:\n",
    "                i = self.index(key, i, lambda a, b : a[0] == b )\n",
    "                matching_element = self[i]\n",
    "                matchList.append((i, matching_element))\n",
    "                i += 1\n",
    "        except ValueError:\n",
    "            if (matchList == []):\n",
    "                msg = '{key} is not in {class_name}' \n",
    "                raise ValueError(msg.format(key=key, class_name=class_name))\n",
    "        return matchList\n",
    "    \n",
    "    \n",
    "\n"
   ]
  },
  {
   "cell_type": "code",
   "execution_count": 43,
   "metadata": {
    "collapsed": false
   },
   "outputs": [
    {
     "data": {
      "text/plain": [
       "(('hiii', 1), ('hiii', 2), ('b', 2), ('a', 1))"
      ]
     },
     "execution_count": 43,
     "metadata": {},
     "output_type": "execute_result"
    }
   ],
   "source": [
    "# sanity check (also included in doctest above)\n",
    "myll = TupleLL.from_components([('a', 1),('b', 2), ('hiii', 2), ('hiii', 1)])\n",
    "myll[0], myll[1], myll[2], myll[3]\n"
   ]
  },
  {
   "cell_type": "code",
   "execution_count": 44,
   "metadata": {
    "collapsed": false
   },
   "outputs": [
    {
     "data": {
      "text/plain": [
       "(0, ('hiii', 1))"
      ]
     },
     "execution_count": 44,
     "metadata": {},
     "output_type": "execute_result"
    }
   ],
   "source": [
    "# test 1 for first_match method\n",
    "myll.first_match('hiii')"
   ]
  },
  {
   "cell_type": "code",
   "execution_count": 45,
   "metadata": {
    "collapsed": false
   },
   "outputs": [
    {
     "data": {
      "text/plain": [
       "(2, ('b', 2))"
      ]
     },
     "execution_count": 45,
     "metadata": {},
     "output_type": "execute_result"
    }
   ],
   "source": [
    "# test 2 for first_match method\n",
    "myll.first_match('b')"
   ]
  },
  {
   "cell_type": "code",
   "execution_count": 46,
   "metadata": {
    "collapsed": false
   },
   "outputs": [
    {
     "ename": "ValueError",
     "evalue": "baaaaaa is not in TupleLL",
     "output_type": "error",
     "traceback": [
      "\u001b[0;31m---------------------------------------------------------------------------\u001b[0m",
      "\u001b[0;31mValueError\u001b[0m                                Traceback (most recent call last)",
      "\u001b[0;32m<ipython-input-46-842af80393f4>\u001b[0m in \u001b[0;36m<module>\u001b[0;34m()\u001b[0m\n\u001b[1;32m      1\u001b[0m \u001b[0;31m# test 3\u001b[0m\u001b[0;34m\u001b[0m\u001b[0;34m\u001b[0m\u001b[0m\n\u001b[0;32m----> 2\u001b[0;31m \u001b[0mmyll\u001b[0m\u001b[0;34m.\u001b[0m\u001b[0mfirst_match\u001b[0m\u001b[0;34m(\u001b[0m\u001b[0;34m'baaaaaa'\u001b[0m\u001b[0;34m)\u001b[0m\u001b[0;34m\u001b[0m\u001b[0m\n\u001b[0m",
      "\u001b[0;32m<ipython-input-42-63ca9bae7888>\u001b[0m in \u001b[0;36mfirst_match\u001b[0;34m(self, key)\u001b[0m\n\u001b[1;32m     26\u001b[0m     \u001b[0;31m# note the use of [0] to extract the key in the tuple\u001b[0m\u001b[0;34m\u001b[0m\u001b[0;34m\u001b[0m\u001b[0m\n\u001b[1;32m     27\u001b[0m     \u001b[0;32mdef\u001b[0m \u001b[0mfirst_match\u001b[0m\u001b[0;34m(\u001b[0m\u001b[0mself\u001b[0m\u001b[0;34m,\u001b[0m \u001b[0mkey\u001b[0m\u001b[0;34m)\u001b[0m\u001b[0;34m:\u001b[0m\u001b[0;34m\u001b[0m\u001b[0m\n\u001b[0;32m---> 28\u001b[0;31m         \u001b[0mi\u001b[0m \u001b[0;34m=\u001b[0m \u001b[0mself\u001b[0m\u001b[0;34m.\u001b[0m\u001b[0mindex\u001b[0m\u001b[0;34m(\u001b[0m\u001b[0mkey\u001b[0m\u001b[0;34m,\u001b[0m \u001b[0;36m0\u001b[0m\u001b[0;34m,\u001b[0m \u001b[0;32mlambda\u001b[0m \u001b[0ma\u001b[0m\u001b[0;34m,\u001b[0m \u001b[0mb\u001b[0m \u001b[0;34m:\u001b[0m \u001b[0ma\u001b[0m\u001b[0;34m[\u001b[0m\u001b[0;36m0\u001b[0m\u001b[0;34m]\u001b[0m \u001b[0;34m==\u001b[0m \u001b[0mb\u001b[0m\u001b[0;34m)\u001b[0m\u001b[0;34m\u001b[0m\u001b[0m\n\u001b[0m\u001b[1;32m     29\u001b[0m         \u001b[0mmatching_element\u001b[0m \u001b[0;34m=\u001b[0m \u001b[0mself\u001b[0m\u001b[0;34m[\u001b[0m\u001b[0mi\u001b[0m\u001b[0;34m]\u001b[0m\u001b[0;34m\u001b[0m\u001b[0m\n\u001b[1;32m     30\u001b[0m         \u001b[0;32mreturn\u001b[0m \u001b[0;34m(\u001b[0m\u001b[0mi\u001b[0m\u001b[0;34m,\u001b[0m \u001b[0mmatching_element\u001b[0m\u001b[0;34m)\u001b[0m\u001b[0;34m\u001b[0m\u001b[0m\n",
      "\u001b[0;32m<ipython-input-3-87865e2d4774>\u001b[0m in \u001b[0;36mindex\u001b[0;34m(self, element, start, equalityFunc)\u001b[0m\n\u001b[1;32m    134\u001b[0m                 \u001b[0;32mif\u001b[0m \u001b[0mcurr_ptr\u001b[0m\u001b[0;34m[\u001b[0m\u001b[0;36m1\u001b[0m\u001b[0;34m]\u001b[0m \u001b[0;32mis\u001b[0m \u001b[0;32mNone\u001b[0m\u001b[0;34m:\u001b[0m\u001b[0;34m\u001b[0m\u001b[0m\n\u001b[1;32m    135\u001b[0m                     \u001b[0mmsg\u001b[0m \u001b[0;34m=\u001b[0m \u001b[0;34m'{element} is not in {class_name}'\u001b[0m\u001b[0;34m\u001b[0m\u001b[0m\n\u001b[0;32m--> 136\u001b[0;31m                     \u001b[0;32mraise\u001b[0m \u001b[0mValueError\u001b[0m\u001b[0;34m(\u001b[0m\u001b[0mmsg\u001b[0m\u001b[0;34m.\u001b[0m\u001b[0mformat\u001b[0m\u001b[0;34m(\u001b[0m\u001b[0melement\u001b[0m\u001b[0;34m=\u001b[0m\u001b[0melement\u001b[0m\u001b[0;34m,\u001b[0m \u001b[0mclass_name\u001b[0m\u001b[0;34m=\u001b[0m\u001b[0mclass_name\u001b[0m\u001b[0;34m)\u001b[0m\u001b[0;34m)\u001b[0m\u001b[0;34m\u001b[0m\u001b[0m\n\u001b[0m\u001b[1;32m    137\u001b[0m                 \u001b[0mcount\u001b[0m \u001b[0;34m+=\u001b[0m \u001b[0;36m1\u001b[0m\u001b[0;34m\u001b[0m\u001b[0m\n\u001b[1;32m    138\u001b[0m                 \u001b[0mcurr_ptr\u001b[0m \u001b[0;34m=\u001b[0m \u001b[0mcurr_ptr\u001b[0m\u001b[0;34m[\u001b[0m\u001b[0;36m1\u001b[0m\u001b[0;34m]\u001b[0m\u001b[0;34m\u001b[0m\u001b[0m\n",
      "\u001b[0;31mValueError\u001b[0m: baaaaaa is not in TupleLL"
     ]
    }
   ],
   "source": [
    "# test 3\n",
    "myll.first_match('baaaaaa')"
   ]
  },
  {
   "cell_type": "code",
   "execution_count": 47,
   "metadata": {
    "collapsed": false
   },
   "outputs": [
    {
     "data": {
      "text/plain": [
       "1"
      ]
     },
     "execution_count": 47,
     "metadata": {},
     "output_type": "execute_result"
    }
   ],
   "source": [
    "# sanity check (also included in doctest above)\n",
    "myll.index('hiii', 1, lambda a, b : a[0] == b)"
   ]
  },
  {
   "cell_type": "code",
   "execution_count": 48,
   "metadata": {
    "collapsed": false
   },
   "outputs": [
    {
     "data": {
      "text/plain": [
       "[(0, ('hiii', 1)), (1, ('hiii', 2))]"
      ]
     },
     "execution_count": 48,
     "metadata": {},
     "output_type": "execute_result"
    }
   ],
   "source": [
    "myll.all_matches('hiii')"
   ]
  },
  {
   "cell_type": "code",
   "execution_count": 49,
   "metadata": {
    "collapsed": false
   },
   "outputs": [
    {
     "data": {
      "text/plain": [
       "[(3, ('a', 1))]"
      ]
     },
     "execution_count": 49,
     "metadata": {},
     "output_type": "execute_result"
    }
   ],
   "source": [
    "myll.all_matches('a')"
   ]
  },
  {
   "cell_type": "code",
   "execution_count": 50,
   "metadata": {
    "collapsed": false,
    "scrolled": true
   },
   "outputs": [
    {
     "ename": "ValueError",
     "evalue": "aasdddd is not in TupleLL",
     "output_type": "error",
     "traceback": [
      "\u001b[0;31m---------------------------------------------------------------------------\u001b[0m",
      "\u001b[0;31mValueError\u001b[0m                                Traceback (most recent call last)",
      "\u001b[0;32m<ipython-input-42-63ca9bae7888>\u001b[0m in \u001b[0;36mall_matches\u001b[0;34m(self, key)\u001b[0m\n\u001b[1;32m     42\u001b[0m             \u001b[0;32mwhile\u001b[0m \u001b[0;32mTrue\u001b[0m\u001b[0;34m:\u001b[0m\u001b[0;34m\u001b[0m\u001b[0m\n\u001b[0;32m---> 43\u001b[0;31m                 \u001b[0mi\u001b[0m \u001b[0;34m=\u001b[0m \u001b[0mself\u001b[0m\u001b[0;34m.\u001b[0m\u001b[0mindex\u001b[0m\u001b[0;34m(\u001b[0m\u001b[0mkey\u001b[0m\u001b[0;34m,\u001b[0m \u001b[0mi\u001b[0m\u001b[0;34m,\u001b[0m \u001b[0;32mlambda\u001b[0m \u001b[0ma\u001b[0m\u001b[0;34m,\u001b[0m \u001b[0mb\u001b[0m \u001b[0;34m:\u001b[0m \u001b[0ma\u001b[0m\u001b[0;34m[\u001b[0m\u001b[0;36m0\u001b[0m\u001b[0;34m]\u001b[0m \u001b[0;34m==\u001b[0m \u001b[0mb\u001b[0m \u001b[0;34m)\u001b[0m\u001b[0;34m\u001b[0m\u001b[0m\n\u001b[0m\u001b[1;32m     44\u001b[0m                 \u001b[0mmatching_element\u001b[0m \u001b[0;34m=\u001b[0m \u001b[0mself\u001b[0m\u001b[0;34m[\u001b[0m\u001b[0mi\u001b[0m\u001b[0;34m]\u001b[0m\u001b[0;34m\u001b[0m\u001b[0m\n",
      "\u001b[0;32m<ipython-input-3-87865e2d4774>\u001b[0m in \u001b[0;36mindex\u001b[0;34m(self, element, start, equalityFunc)\u001b[0m\n\u001b[1;32m    135\u001b[0m                     \u001b[0mmsg\u001b[0m \u001b[0;34m=\u001b[0m \u001b[0;34m'{element} is not in {class_name}'\u001b[0m\u001b[0;34m\u001b[0m\u001b[0m\n\u001b[0;32m--> 136\u001b[0;31m                     \u001b[0;32mraise\u001b[0m \u001b[0mValueError\u001b[0m\u001b[0;34m(\u001b[0m\u001b[0mmsg\u001b[0m\u001b[0;34m.\u001b[0m\u001b[0mformat\u001b[0m\u001b[0;34m(\u001b[0m\u001b[0melement\u001b[0m\u001b[0;34m=\u001b[0m\u001b[0melement\u001b[0m\u001b[0;34m,\u001b[0m \u001b[0mclass_name\u001b[0m\u001b[0;34m=\u001b[0m\u001b[0mclass_name\u001b[0m\u001b[0;34m)\u001b[0m\u001b[0;34m)\u001b[0m\u001b[0;34m\u001b[0m\u001b[0m\n\u001b[0m\u001b[1;32m    137\u001b[0m                 \u001b[0mcount\u001b[0m \u001b[0;34m+=\u001b[0m \u001b[0;36m1\u001b[0m\u001b[0;34m\u001b[0m\u001b[0m\n",
      "\u001b[0;31mValueError\u001b[0m: aasdddd is not in TupleLL",
      "\nDuring handling of the above exception, another exception occurred:\n",
      "\u001b[0;31mValueError\u001b[0m                                Traceback (most recent call last)",
      "\u001b[0;32m<ipython-input-50-7c923c8e41e6>\u001b[0m in \u001b[0;36m<module>\u001b[0;34m()\u001b[0m\n\u001b[0;32m----> 1\u001b[0;31m \u001b[0mmyll\u001b[0m\u001b[0;34m.\u001b[0m\u001b[0mall_matches\u001b[0m\u001b[0;34m(\u001b[0m\u001b[0;34m'aasdddd'\u001b[0m\u001b[0;34m)\u001b[0m\u001b[0;34m\u001b[0m\u001b[0m\n\u001b[0m",
      "\u001b[0;32m<ipython-input-42-63ca9bae7888>\u001b[0m in \u001b[0;36mall_matches\u001b[0;34m(self, key)\u001b[0m\n\u001b[1;32m     48\u001b[0m             \u001b[0;32mif\u001b[0m \u001b[0;34m(\u001b[0m\u001b[0mmatchList\u001b[0m \u001b[0;34m==\u001b[0m \u001b[0;34m[\u001b[0m\u001b[0;34m]\u001b[0m\u001b[0;34m)\u001b[0m\u001b[0;34m:\u001b[0m\u001b[0;34m\u001b[0m\u001b[0m\n\u001b[1;32m     49\u001b[0m                 \u001b[0mmsg\u001b[0m \u001b[0;34m=\u001b[0m \u001b[0;34m'{key} is not in {class_name}'\u001b[0m\u001b[0;34m\u001b[0m\u001b[0m\n\u001b[0;32m---> 50\u001b[0;31m                 \u001b[0;32mraise\u001b[0m \u001b[0mValueError\u001b[0m\u001b[0;34m(\u001b[0m\u001b[0mmsg\u001b[0m\u001b[0;34m.\u001b[0m\u001b[0mformat\u001b[0m\u001b[0;34m(\u001b[0m\u001b[0mkey\u001b[0m\u001b[0;34m=\u001b[0m\u001b[0mkey\u001b[0m\u001b[0;34m,\u001b[0m \u001b[0mclass_name\u001b[0m\u001b[0;34m=\u001b[0m\u001b[0mclass_name\u001b[0m\u001b[0;34m)\u001b[0m\u001b[0;34m)\u001b[0m\u001b[0;34m\u001b[0m\u001b[0m\n\u001b[0m\u001b[1;32m     51\u001b[0m         \u001b[0;32mreturn\u001b[0m \u001b[0mmatchList\u001b[0m\u001b[0;34m\u001b[0m\u001b[0m\n\u001b[1;32m     52\u001b[0m \u001b[0;34m\u001b[0m\u001b[0m\n",
      "\u001b[0;31mValueError\u001b[0m: aasdddd is not in TupleLL"
     ]
    }
   ],
   "source": [
    "myll.all_matches('aasdddd')"
   ]
  },
  {
   "cell_type": "code",
   "execution_count": 51,
   "metadata": {
    "collapsed": false
   },
   "outputs": [
    {
     "data": {
      "text/plain": [
       "TupleLL([('a', 1),...])"
      ]
     },
     "execution_count": 51,
     "metadata": {},
     "output_type": "execute_result"
    }
   ],
   "source": [
    "l = TupleLL()\n",
    "l.insert_front(('a', 1))\n",
    "l"
   ]
  },
  {
   "cell_type": "code",
   "execution_count": 52,
   "metadata": {
    "collapsed": false
   },
   "outputs": [
    {
     "ename": "AssertionError",
     "evalue": "element needs to be a tuple",
     "output_type": "error",
     "traceback": [
      "\u001b[0;31m---------------------------------------------------------------------------\u001b[0m",
      "\u001b[0;31mAssertionError\u001b[0m                            Traceback (most recent call last)",
      "\u001b[0;32m<ipython-input-52-53aaefcd81ba>\u001b[0m in \u001b[0;36m<module>\u001b[0;34m()\u001b[0m\n\u001b[0;32m----> 1\u001b[0;31m \u001b[0ml\u001b[0m\u001b[0;34m.\u001b[0m\u001b[0minsert_front\u001b[0m\u001b[0;34m(\u001b[0m\u001b[0;36m3\u001b[0m\u001b[0;34m)\u001b[0m\u001b[0;34m\u001b[0m\u001b[0m\n\u001b[0m",
      "\u001b[0;32m<ipython-input-3-87865e2d4774>\u001b[0m in \u001b[0;36minsert_front\u001b[0;34m(self, element)\u001b[0m\n\u001b[1;32m     57\u001b[0m \u001b[0;34m\u001b[0m\u001b[0m\n\u001b[1;32m     58\u001b[0m     \u001b[0;32mdef\u001b[0m \u001b[0minsert_front\u001b[0m\u001b[0;34m(\u001b[0m\u001b[0mself\u001b[0m\u001b[0;34m,\u001b[0m \u001b[0melement\u001b[0m\u001b[0;34m)\u001b[0m\u001b[0;34m:\u001b[0m\u001b[0;34m\u001b[0m\u001b[0m\n\u001b[0;32m---> 59\u001b[0;31m         \u001b[0melement\u001b[0m \u001b[0;34m=\u001b[0m \u001b[0mself\u001b[0m\u001b[0;34m.\u001b[0m\u001b[0mrepOK\u001b[0m\u001b[0;34m(\u001b[0m\u001b[0melement\u001b[0m\u001b[0;34m)\u001b[0m\u001b[0;34m\u001b[0m\u001b[0m\n\u001b[0m\u001b[1;32m     60\u001b[0m         \u001b[0mnew_node\u001b[0m \u001b[0;34m=\u001b[0m \u001b[0;34m[\u001b[0m\u001b[0melement\u001b[0m\u001b[0;34m,\u001b[0m \u001b[0;32mNone\u001b[0m\u001b[0;34m]\u001b[0m\u001b[0;34m\u001b[0m\u001b[0m\n\u001b[1;32m     61\u001b[0m         \u001b[0mnew_node\u001b[0m\u001b[0;34m[\u001b[0m\u001b[0;36m1\u001b[0m\u001b[0;34m]\u001b[0m \u001b[0;34m=\u001b[0m \u001b[0mself\u001b[0m\u001b[0;34m.\u001b[0m\u001b[0m_headNode\u001b[0m\u001b[0;34m\u001b[0m\u001b[0m\n",
      "\u001b[0;32m<ipython-input-42-63ca9bae7888>\u001b[0m in \u001b[0;36mrepOK\u001b[0;34m(self, element)\u001b[0m\n\u001b[1;32m     17\u001b[0m     \u001b[0;31m#could be implemented using a check on the whole list\u001b[0m\u001b[0;34m\u001b[0m\u001b[0;34m\u001b[0m\u001b[0m\n\u001b[1;32m     18\u001b[0m     \u001b[0;32mdef\u001b[0m \u001b[0mrepOK\u001b[0m\u001b[0;34m(\u001b[0m\u001b[0mself\u001b[0m\u001b[0;34m,\u001b[0m \u001b[0melement\u001b[0m\u001b[0;34m)\u001b[0m\u001b[0;34m:\u001b[0m\u001b[0;34m\u001b[0m\u001b[0m\n\u001b[0;32m---> 19\u001b[0;31m         \u001b[0;32massert\u001b[0m \u001b[0misinstance\u001b[0m\u001b[0;34m(\u001b[0m\u001b[0melement\u001b[0m\u001b[0;34m,\u001b[0m \u001b[0mtuple\u001b[0m\u001b[0;34m)\u001b[0m\u001b[0;34m,\u001b[0m \u001b[0;34m\"element needs to be a tuple\"\u001b[0m\u001b[0;34m\u001b[0m\u001b[0m\n\u001b[0m\u001b[1;32m     20\u001b[0m         \u001b[0;32mreturn\u001b[0m \u001b[0melement\u001b[0m\u001b[0;34m\u001b[0m\u001b[0m\n\u001b[1;32m     21\u001b[0m \u001b[0;34m\u001b[0m\u001b[0m\n",
      "\u001b[0;31mAssertionError\u001b[0m: element needs to be a tuple"
     ]
    }
   ],
   "source": [
    "l.insert_front(3)"
   ]
  },
  {
   "cell_type": "code",
   "execution_count": 53,
   "metadata": {
    "collapsed": false,
    "scrolled": false
   },
   "outputs": [
    {
     "name": "stdout",
     "output_type": "stream",
     "text": [
      "Finding tests in NoName\n",
      "Trying:\n",
      "    myll = TupleLL.from_components([('a', 1),('b', 2), ('hiii', 2), ('hiii', 1)])  \n",
      "Expecting nothing\n",
      "ok\n",
      "Trying:\n",
      "    myll.first_match('hiii')\n",
      "Expecting:\n",
      "    (0, ('hiii', 1))\n",
      "ok\n",
      "Trying:\n",
      "    myll.first_match('b')\n",
      "Expecting:\n",
      "    (2, ('b', 2))\n",
      "ok\n",
      "Trying:\n",
      "    myll.all_matches('hiii')\n",
      "Expecting:\n",
      "    [(0, ('hiii', 1)), (1, ('hiii', 2))]\n",
      "ok\n"
     ]
    }
   ],
   "source": [
    "from doctest import run_docstring_examples as dtest\n",
    "dtest(TupleLL, globals(), verbose=True)"
   ]
  },
  {
   "cell_type": "markdown",
   "metadata": {},
   "source": [
    "### Q2.\n",
    "\n",
    "Implement a inplementation class `Env2` that impements the environment interface using the `TupleLL`. Let us ask what the AbsFun and RepInv are for this implementation. Write an AbsFun for it, noting that in this concrete representation, there can be multiple key-value pairs in the environment for the same key, and that there is a way to disambiguate the correct one. \n",
    "\n",
    "(In general, the Absfun should limit the keys and values allowed for our bindings (as according to our language) as well. But we wont do that here.)\n",
    "\n",
    "\n"
   ]
  },
  {
   "cell_type": "code",
   "execution_count": 105,
   "metadata": {
    "collapsed": true
   },
   "outputs": [],
   "source": [
    "#import LL, TupleLL\n",
    "\n",
    "import reprlib\n",
    "class Env2(Environment):\n",
    "    \"\"\"\n",
    "    Implements ABC Environment\n",
    "    \n",
    "    AbsFun: The list [(key1, value1), (key2, value2), ...] represents the key-value pairs \n",
    "    in the environment, this is implemented in the __repr__ function\n",
    "    \n",
    "    The list may contain multiple key-value pairs in the environment for the same key.\n",
    "    \n",
    "    The way to disambiguate the correct one will be the one closer to the head, i.e. \n",
    "    closer to the start of the list\n",
    "    \n",
    "    >>> e = Env2()\n",
    "    >>> dict = {'Maria': 1, 'James': 's', 'Donald': 10, 'Melissa': [1, 1, 2]}\n",
    "    >>> e.extend_many(dict) \n",
    "    >>> e\n",
    "    [('Donald', 10), ('Melissa', [1, 1, 2]), ('Maria', 1), ('James', 's')]\n",
    "    >>> e.extend('Donald', 100)\n",
    "    >>> e\n",
    "    [('Donald', 100), ('Donald', 10), ('Melissa', [1, 1, 2]), ('Maria', 1), ('James', 's')]\n",
    "    >>> e.lookup('Donald')\n",
    "    (100, TupleLL([('Donald', 100),...]))\n",
    "    \n",
    "    \"\"\"\n",
    "    @classmethod\n",
    "    def empty(cls):\n",
    "        return cls()\n",
    "    \n",
    "    # underlying data structure is TupleLL\n",
    "    def __init__(self):\n",
    "        self._bindingList = TupleLL()\n",
    "        self.class_name = type(self).__name__\n",
    "    \n",
    "    # if the binding list is < 10, print all the tuples\n",
    "    # otherwise, print the first 10 elements\n",
    "    def __repr__(self):\n",
    "        outList = []\n",
    "        for i in range(min(len(self._bindingList), 10)):\n",
    "            outList.append(self._bindingList[i])\n",
    "        s = \"{}\".format(outList)\n",
    "        if len(self._bindingList)>10:\n",
    "            s = s + \" ...\"\n",
    "        return s\n",
    "    \n",
    "    def __str__(self):\n",
    "        outList = []\n",
    "        s = \"The environment is \"\n",
    "        for i in range(min(len(self._bindingList), 10)):\n",
    "            outList.append(self._bindingList[i])\n",
    "        s = s + \"{}\".format(outList)\n",
    "        if len(self._bindingList)>10:\n",
    "            s = s + \" ...\"\n",
    "        return s\n",
    "    \n",
    "    def extend(self, variable, value):\n",
    "        \"\"\"\n",
    "        extend an existing environment by binding variable to value.\n",
    "        The values must be an acceptable value in the language. If the\n",
    "        same variable is used twice the newer value must be bound.\n",
    "        \"\"\"\n",
    "        self._bindingList.insert_front((variable, value))\n",
    "    \n",
    "    def extend_many(self, envdict):\n",
    "        \"\"\"\n",
    "        extend the current environment by values in the dictionary\n",
    "        envdict. If the dictionary contains variables already in the\n",
    "        environment, the newer values from the dictionary are bound\n",
    "        \"\"\"\n",
    "        for key in envdict:\n",
    "            t = key, envdict[key]\n",
    "            self._bindingList.insert_front(t)\n",
    "        #self._bindingList.insert_front((key, envdict[key]) for key in envdict)\n",
    "        \n",
    "    def lookup(self, variable):\n",
    "        \"\"\"\n",
    "        return the unique binding of the variable and the environment it was bound\n",
    "        in as a tuple. If it is not found raise a NameError as below\n",
    "        \"\"\"\n",
    "        try:\n",
    "            return (self._bindingList.first_match(variable)[1][1], self._bindingList)\n",
    "        except ValueError:\n",
    "            raise NameError(\"{} not found in Environment\".format(variable))\n",
    "    "
   ]
  },
  {
   "cell_type": "code",
   "execution_count": 106,
   "metadata": {
    "collapsed": false
   },
   "outputs": [],
   "source": [
    "# sanity check (also included in doctest)\n",
    "e = Env2()\n",
    "dict = {'Maria': 1, 'James': 's', 'Donald': 10, 'Melissa': [1, 1, 2]}\n"
   ]
  },
  {
   "cell_type": "code",
   "execution_count": 107,
   "metadata": {
    "collapsed": false
   },
   "outputs": [
    {
     "data": {
      "text/plain": [
       "[('Donald', 10), ('Melissa', [1, 1, 2]), ('Maria', 1), ('James', 's')]"
      ]
     },
     "execution_count": 107,
     "metadata": {},
     "output_type": "execute_result"
    }
   ],
   "source": [
    "e.extend_many(dict) \n",
    "e"
   ]
  },
  {
   "cell_type": "code",
   "execution_count": 108,
   "metadata": {
    "collapsed": false
   },
   "outputs": [
    {
     "data": {
      "text/plain": [
       "[('Donald', 100), ('Donald', 10), ('Melissa', [1, 1, 2]), ('Maria', 1), ('James', 's')]"
      ]
     },
     "execution_count": 108,
     "metadata": {},
     "output_type": "execute_result"
    }
   ],
   "source": [
    "e.extend('Donald', 100)\n",
    "e"
   ]
  },
  {
   "cell_type": "code",
   "execution_count": 109,
   "metadata": {
    "collapsed": false
   },
   "outputs": [
    {
     "name": "stdout",
     "output_type": "stream",
     "text": [
      "The environment is [('Donald', 100), ('Donald', 10), ('Melissa', [1, 1, 2]), ('Maria', 1), ('James', 's')]\n"
     ]
    }
   ],
   "source": [
    "print (e)"
   ]
  },
  {
   "cell_type": "code",
   "execution_count": 110,
   "metadata": {
    "collapsed": true
   },
   "outputs": [],
   "source": [
    "e.extend('Maria', 100)"
   ]
  },
  {
   "cell_type": "code",
   "execution_count": 111,
   "metadata": {
    "collapsed": false
   },
   "outputs": [
    {
     "data": {
      "text/plain": [
       "[('Maria', 100), ('Donald', 100), ('Donald', 10), ('Melissa', [1, 1, 2]), ('Maria', 1), ('James', 's')]"
      ]
     },
     "execution_count": 111,
     "metadata": {},
     "output_type": "execute_result"
    }
   ],
   "source": [
    "e"
   ]
  },
  {
   "cell_type": "code",
   "execution_count": 112,
   "metadata": {
    "collapsed": false
   },
   "outputs": [
    {
     "data": {
      "text/plain": [
       "(100, TupleLL([('Maria', 100),...]))"
      ]
     },
     "execution_count": 112,
     "metadata": {},
     "output_type": "execute_result"
    }
   ],
   "source": [
    "e.lookup('Donald')"
   ]
  },
  {
   "cell_type": "code",
   "execution_count": 113,
   "metadata": {
    "collapsed": false,
    "scrolled": false
   },
   "outputs": [
    {
     "name": "stdout",
     "output_type": "stream",
     "text": [
      "Finding tests in NoName\n",
      "Trying:\n",
      "    e = Env2()\n",
      "Expecting nothing\n",
      "ok\n",
      "Trying:\n",
      "    dict = {'Maria': 1, 'James': 's', 'Donald': 10, 'Melissa': [1, 1, 2]}\n",
      "Expecting nothing\n",
      "ok\n",
      "Trying:\n",
      "    e.extend_many(dict) \n",
      "Expecting nothing\n",
      "ok\n",
      "Trying:\n",
      "    e\n",
      "Expecting:\n",
      "    [('Donald', 10), ('Melissa', [1, 1, 2]), ('Maria', 1), ('James', 's')]\n",
      "ok\n",
      "Trying:\n",
      "    e.extend('Donald', 100)\n",
      "Expecting nothing\n",
      "ok\n",
      "Trying:\n",
      "    e\n",
      "Expecting:\n",
      "    [('Donald', 100), ('Donald', 10), ('Melissa', [1, 1, 2]), ('Maria', 1), ('James', 's')]\n",
      "ok\n",
      "Trying:\n",
      "    e.lookup('Donald')\n",
      "Expecting:\n",
      "    (100, TupleLL([('Donald', 100),...]))\n",
      "ok\n"
     ]
    }
   ],
   "source": [
    "from doctest import run_docstring_examples as dtest\n",
    "dtest(Env2, globals(), verbose=True)"
   ]
  },
  {
   "cell_type": "markdown",
   "metadata": {},
   "source": [
    "### Q3. `repinv`\n",
    "\n",
    "Now let us write and test a RepInv for this implementation. Note that just like in the case with the list-with-duplicates implementation of a set, its hard to come up with any uniqueness-of-binding RepInv. But we can ask the following: a newer binding overrides an old one. Write a Repinv which implements this and include a repOK methodwhich makes sure that any methods mutating the environment respect this RepInv and any observers return the correct binding. \n",
    "\n",
    "Hint: the `repOK` will need a signature `def repOK(self, key, value)` and also be used in the `lookup` method. It will use all_matches, and not be returning anything."
   ]
  },
  {
   "cell_type": "code",
   "execution_count": 126,
   "metadata": {
    "collapsed": true
   },
   "outputs": [],
   "source": [
    "#your code here\n",
    "# copy of code from Q2 with method repOK and its usage within the class added\n",
    "\n",
    "#import LL, TupleLL\n",
    "\n",
    "import reprlib\n",
    "class Env2(Environment):\n",
    "    \"\"\"\n",
    "    Implements ABC Environment\n",
    "    \n",
    "    AbsFun: The list [(key1, value1), (key2, value2), ...] represents the key-value pairs \n",
    "    in the environment, this is implemented in the __repr__ function\n",
    "    \n",
    "    The list may contain multiple key-value pairs in the environment for the same key.\n",
    "    \n",
    "    The way to disambiguate the correct one will be the one closer to the head, i.e. \n",
    "    closer to the start of the list\n",
    "    \n",
    "    >>> e = Env2()\n",
    "    >>> dict = {'Maria': 1, 'James': 's', 'Donald': 10, 'Melissa': [1, 1, 2]}\n",
    "    >>> e.extend_many(dict) \n",
    "    >>> e.extend('Donald', 100)\n",
    "    >>> e\n",
    "    [('Donald', 100), ('Donald', 10), ('Melissa', [1, 1, 2]), ('Maria', 1), ('James', 's')]\n",
    "    >>> e.lookup('Donald')\n",
    "    (100, TupleLL([('Donald', 100),...]))\n",
    "    \n",
    "    \"\"\"\n",
    "    @classmethod\n",
    "    def empty(cls):\n",
    "        return cls()\n",
    "    \n",
    "    # here is an implementation of repinv\n",
    "    def repOK(self, key, value):\n",
    "        assert (key != None), \"Key cannot be none\"\n",
    "        assert (value != None), \"Value cannot be none\"\n",
    "        # find if the key has duplicate values in the environment\n",
    "        allMatchList = self._bindingList.all_matches(key)\n",
    "        if (len(allMatchList) > 1):\n",
    "            # return the value at minimum index for duplicate keys\n",
    "            val_fromMatchList = min(allMatchList)[1][1]\n",
    "            # return the lookup value for the same key\n",
    "            val_fromlookup = self.lookup(key)[0]\n",
    "            # if the two values are not equal\n",
    "            # repinv is invalid\n",
    "            assert (val_fromMatchList == val_fromlookup), \"Representation Integrity Not Valid, lookup is not returning latest value of key\"\n",
    "                \n",
    "                \n",
    "    # underlying data structure is TupleLL\n",
    "    def __init__(self):\n",
    "        self._bindingList = TupleLL()\n",
    "        self.class_name = type(self).__name__\n",
    "    \n",
    "    # if the binding list is < 10, print all the tuples\n",
    "    # otherwise, print the first 10 elements\n",
    "    def __repr__(self):\n",
    "        outList = []\n",
    "        for i in range(min(len(self._bindingList), 10)):\n",
    "            outList.append(self._bindingList[i])\n",
    "        s = \"{}\".format(outList)\n",
    "        if len(self._bindingList)>10:\n",
    "            s = s + \" ...\"\n",
    "        return s\n",
    "    \n",
    "    def __str__(self):\n",
    "        outList = []\n",
    "        s = \"The environment is \"\n",
    "        for i in range(min(len(self._bindingList), 10)):\n",
    "            outList.append(self._bindingList[i])\n",
    "        s = s + \"{}\".format(outList)\n",
    "        if len(self._bindingList)>10:\n",
    "            s = s + \" ...\"\n",
    "        return s\n",
    "    \n",
    "    def extend(self, variable, value):\n",
    "        \"\"\"\n",
    "        extend an existing environment by binding variable to value.\n",
    "        The values must be an acceptable value in the language. If the\n",
    "        same variable is used twice the newer value must be bound.\n",
    "        \"\"\"\n",
    "        self._bindingList.insert_front((variable, value))\n",
    "        self.repOK(variable, value)\n",
    "    \n",
    "    def extend_many(self, envdict):\n",
    "        \"\"\"\n",
    "        extend the current environment by values in the dictionary\n",
    "        envdict. If the dictionary contains variables already in the\n",
    "        environment, the newer values from the dictionary are bound\n",
    "        \"\"\"\n",
    "        for key in envdict:\n",
    "            t = key, envdict[key]\n",
    "            self._bindingList.insert_front(t)\n",
    "            self.repOK(key, envdict[key])\n",
    "        \n",
    "    def lookup(self, variable):\n",
    "        \"\"\"\n",
    "        return the unique binding of the variable (value) and the environment it was bound\n",
    "        in as a tuple. If it is not found raise a NameError as below\n",
    "        \"\"\"\n",
    "        try:\n",
    "            tup = self._bindingList.first_match(variable)\n",
    "            return (tup[1][1], self._bindingList)\n",
    "        except ValueError:\n",
    "            raise NameError(\"{} not found in Environment\".format(variable))\n"
   ]
  },
  {
   "cell_type": "code",
   "execution_count": 127,
   "metadata": {
    "collapsed": true
   },
   "outputs": [],
   "source": [
    "testEnv = Env2()\n",
    "dict = {'Maria': 1, 'James': 's', 'Donald': 10, 'Melissa': [1, 1, 2]}\n"
   ]
  },
  {
   "cell_type": "code",
   "execution_count": 128,
   "metadata": {
    "collapsed": false
   },
   "outputs": [],
   "source": [
    "testEnv.extend_many(dict)"
   ]
  },
  {
   "cell_type": "code",
   "execution_count": 129,
   "metadata": {
    "collapsed": false
   },
   "outputs": [
    {
     "data": {
      "text/plain": [
       "[('Donald', 10), ('Melissa', [1, 1, 2]), ('Maria', 1), ('James', 's')]"
      ]
     },
     "execution_count": 129,
     "metadata": {},
     "output_type": "execute_result"
    }
   ],
   "source": [
    "testEnv"
   ]
  },
  {
   "cell_type": "code",
   "execution_count": 130,
   "metadata": {
    "collapsed": false
   },
   "outputs": [],
   "source": [
    "testEnv.extend('Donald', 100)"
   ]
  },
  {
   "cell_type": "code",
   "execution_count": 131,
   "metadata": {
    "collapsed": false
   },
   "outputs": [
    {
     "name": "stdout",
     "output_type": "stream",
     "text": [
      "Finding tests in NoName\n",
      "Trying:\n",
      "    e = Env2()\n",
      "Expecting nothing\n",
      "ok\n",
      "Trying:\n",
      "    dict = {'Maria': 1, 'James': 's', 'Donald': 10, 'Melissa': [1, 1, 2]}\n",
      "Expecting nothing\n",
      "ok\n",
      "Trying:\n",
      "    e.extend_many(dict) \n",
      "Expecting nothing\n",
      "ok\n",
      "Trying:\n",
      "    e.extend('Donald', 100)\n",
      "Expecting nothing\n",
      "ok\n",
      "Trying:\n",
      "    e\n",
      "Expecting:\n",
      "    [('Donald', 100), ('Donald', 10), ('Melissa', [1, 1, 2]), ('Maria', 1), ('James', 's')]\n",
      "ok\n",
      "Trying:\n",
      "    e.lookup('Donald')\n",
      "Expecting:\n",
      "    (100, TupleLL([('Donald', 100),...]))\n",
      "ok\n"
     ]
    }
   ],
   "source": [
    "from doctest import run_docstring_examples as dtest\n",
    "dtest(Env2, globals(), verbose=True)"
   ]
  },
  {
   "cell_type": "markdown",
   "metadata": {},
   "source": [
    "### Q4. Running the program\n",
    "\n",
    "Just make sure that the program actually runs :-). Note some changes here: we are using `yield`s instead of `return`s at multiple places."
   ]
  },
  {
   "cell_type": "markdown",
   "metadata": {},
   "source": [
    "Lets use this class in a function which creates a global environment for our calculator referenced as `globenv`. we first register this implementation for the `Environment` interface"
   ]
  },
  {
   "cell_type": "code",
   "execution_count": 132,
   "metadata": {
    "collapsed": false
   },
   "outputs": [
    {
     "data": {
      "text/plain": [
       "__main__.Env2"
      ]
     },
     "execution_count": 132,
     "metadata": {},
     "output_type": "execute_result"
    }
   ],
   "source": [
    "Environment.register(Env2)"
   ]
  },
  {
   "cell_type": "code",
   "execution_count": 133,
   "metadata": {
    "collapsed": false
   },
   "outputs": [],
   "source": [
    "import math\n",
    "def global_env(envclass):\n",
    "    \"An environment with some Scheme standard procedures.\"\n",
    "    import math, operator as op\n",
    "    env = envclass.empty()\n",
    "    env.extend_many(vars(math))\n",
    "    env.extend_many({\n",
    "        '+':op.add, '-':op.sub, '*':op.mul, '/':op.truediv, \n",
    "        'abs':     abs,\n",
    "        'max':     max,\n",
    "        'min':     min,\n",
    "        'round':   round,\n",
    "        '>':op.gt, '<':op.lt, '>=':op.ge, '<=':op.le, '==':op.eq,\n",
    "        'not':     op.not_\n",
    "    })\n",
    "    return env"
   ]
  },
  {
   "cell_type": "code",
   "execution_count": 134,
   "metadata": {
    "collapsed": true
   },
   "outputs": [],
   "source": [
    "class Function():\n",
    "    def __init__(self, params, parsedbody, env):\n",
    "        self.params = params\n",
    "        self.code = parsedbody\n",
    "        self.env = env\n",
    "        self.envclass = env.__class__\n",
    "        \n",
    "    def __call__(self, *args):\n",
    "        funcenv = self.envclass(outerenv = self.env)\n",
    "        funcenv.extend_many(zip(self.params, args))\n",
    "        return eval_ptree(self.code, funcenv)"
   ]
  },
  {
   "cell_type": "code",
   "execution_count": 135,
   "metadata": {
    "collapsed": true
   },
   "outputs": [],
   "source": [
    "globenv = global_env(Env2)"
   ]
  },
  {
   "cell_type": "code",
   "execution_count": 136,
   "metadata": {
    "collapsed": true
   },
   "outputs": [],
   "source": [
    "def typer(token):\n",
    "    try:\n",
    "        t = int(token)\n",
    "        return t\n",
    "    except ValueError:\n",
    "        try:\n",
    "            t = float(token)\n",
    "            return t\n",
    "        except ValueError:\n",
    "            return str(token)\n",
    "        \n",
    "def lex(loc):\n",
    "    tokenlist =  loc.replace('(', ' ( ').replace(')', ' ) ').split()\n",
    "    return [typer(t) for t in tokenlist]\n",
    "\n",
    "def syn(tokens):\n",
    "    if len(tokens) == 0:\n",
    "        return []\n",
    "    token = tokens.pop(0)\n",
    "    if token == '(':\n",
    "        L = []\n",
    "        while tokens[0] != ')':\n",
    "            L.append(syn(tokens))\n",
    "        tokens.pop(0) # pop off ')'\n",
    "        return L\n",
    "    else:\n",
    "        if token==')':\n",
    "            assert 1, \"should not have got here\"\n",
    "        return token\n",
    "    \n",
    "def parse(loc):\n",
    "    return syn(lex(loc))"
   ]
  },
  {
   "cell_type": "code",
   "execution_count": 137,
   "metadata": {
    "collapsed": true
   },
   "outputs": [],
   "source": [
    "def eval_ptree(x, env):\n",
    "    Symbol = str\n",
    "    fmap={'#t':True, '#f':False, 'nil':None}\n",
    "    if x in ('#t', '#f', 'nil'):\n",
    "        return fmap[x]        \n",
    "    elif isinstance(x, Symbol):\n",
    "        # variable lookup\n",
    "        return env.lookup(x)[0]\n",
    "    elif not isinstance(x, list):  # constant\n",
    "        return x\n",
    "    elif len(x)==0: #noop\n",
    "        return None\n",
    "    elif x[0]=='if':\n",
    "        (_, predicate, truexpr, falseexpr) = x\n",
    "        if eval_ptree(predicate, env):\n",
    "            expression = truexpr\n",
    "        else:\n",
    "            expression = falseexpr\n",
    "        return eval_ptree(expression, env)\n",
    "    elif x[0] == 'def':         # variable definition\n",
    "        (_, var, expression) = x\n",
    "        #postorder traversal by nested eval is needed below\n",
    "        # your code here\n",
    "        env.extend(var, eval_ptree(expression, env))\n",
    "    elif x[0] == 'store':           # (set! var exp)\n",
    "        (_, var, exp) = x\n",
    "        env.lookup(var)[1].extend(var, eval_ptree(exp, env))\n",
    "    elif x[0] == 'func':\n",
    "        (_, parameters, parsedbody) = x\n",
    "        return Function(parameters, parsedbody, env)\n",
    "    else:                          # operator\n",
    "        op = eval_ptree(x[0], env)\n",
    "        #postorder traversal to get subexpressione before running the op\n",
    "        args = [eval_ptree(arg, env) for arg in x[1:]]\n",
    "        return op(*args)"
   ]
  },
  {
   "cell_type": "code",
   "execution_count": 138,
   "metadata": {
    "collapsed": true
   },
   "outputs": [],
   "source": [
    "class Program():\n",
    "    \n",
    "    def __init__(self, program, env):\n",
    "        self.program = [e.strip() for e in program.split('\\n')]\n",
    "        self.env = env\n",
    "        \n",
    "    def __iter__(self):\n",
    "        for line in self.program:\n",
    "            yield line\n",
    "    \n",
    "    def parse(self):\n",
    "        for l in iter(self):\n",
    "            yield parse(l)\n",
    "            \n",
    "    def run(self):\n",
    "        for l in iter(self):\n",
    "            yield eval_ptree(parse(l), self.env)"
   ]
  },
  {
   "cell_type": "code",
   "execution_count": 139,
   "metadata": {
    "collapsed": true
   },
   "outputs": [],
   "source": [
    "program = \"\"\"\n",
    "(def radius 5)\n",
    "(* pi (* radius radius))\n",
    "\"\"\""
   ]
  },
  {
   "cell_type": "code",
   "execution_count": 140,
   "metadata": {
    "collapsed": false,
    "scrolled": true
   },
   "outputs": [
    {
     "data": {
      "text/plain": [
       "['', '(def radius 5)', '(* pi (* radius radius))', '']"
      ]
     },
     "execution_count": 140,
     "metadata": {},
     "output_type": "execute_result"
    }
   ],
   "source": [
    "p=Program(program, globenv)\n",
    "list(iter(p))"
   ]
  },
  {
   "cell_type": "code",
   "execution_count": 141,
   "metadata": {
    "collapsed": false
   },
   "outputs": [
    {
     "name": "stdout",
     "output_type": "stream",
     "text": [
      "[]\n",
      "['def', 'radius', 5]\n",
      "['*', 'pi', ['*', 'radius', 'radius']]\n",
      "[]\n"
     ]
    }
   ],
   "source": [
    "for s in p.parse():\n",
    "    print(s)"
   ]
  },
  {
   "cell_type": "code",
   "execution_count": 143,
   "metadata": {
    "collapsed": false
   },
   "outputs": [
    {
     "name": "stdout",
     "output_type": "stream",
     "text": [
      "None\n",
      "None\n",
      "78.53981633974483\n",
      "None\n"
     ]
    }
   ],
   "source": [
    "for result in p.run():\n",
    "    print(result)"
   ]
  },
  {
   "cell_type": "markdown",
   "metadata": {},
   "source": [
    "We see that 78.5 is indeed the result of pi multiplied by square of r."
   ]
  }
 ],
 "metadata": {
  "anaconda-cloud": {},
  "kernelspec": {
   "display_name": "Python [py35]",
   "language": "python",
   "name": "Python [py35]"
  },
  "language_info": {
   "codemirror_mode": {
    "name": "ipython",
    "version": 3
   },
   "file_extension": ".py",
   "mimetype": "text/x-python",
   "name": "python",
   "nbconvert_exporter": "python",
   "pygments_lexer": "ipython3",
   "version": "3.5.2"
  }
 },
 "nbformat": 4,
 "nbformat_minor": 0
}
