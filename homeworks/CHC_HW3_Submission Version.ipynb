{
 "cells": [
  {
   "cell_type": "markdown",
   "metadata": {},
   "source": [
    "## Basic Algorithms: Fibonacci\n",
    "\n",
    "Another form of recursion is tree recursion. Consider computing a fibonacci sequence, in which each number is the sum of the previous two, with the first two taken to be 0 and 1."
   ]
  },
  {
   "cell_type": "markdown",
   "metadata": {},
   "source": [
    "### Recursive Fibonacci. \n",
    "\n",
    "\n",
    "We write Fibonacci recursively with the first two numbers as base cases.\n",
    "\n",
    "![](https://mitpress.mit.edu/sicp/full-text/book/ch1-Z-G-13.gif)\n",
    "\n",
    "(from SICP)\n",
    "\n",
    "Signature: `def fib_recursive(n)`"
   ]
  },
  {
   "cell_type": "code",
   "execution_count": 29,
   "metadata": {
    "collapsed": false
   },
   "outputs": [
    {
     "name": "stdout",
     "output_type": "stream",
     "text": [
      "0\n",
      "1\n",
      "8\n",
      "144\n",
      "317811\n",
      "2178309\n"
     ]
    }
   ],
   "source": [
    "# recursion\n",
    "def fib_recursive(n):\n",
    "    if n == 1:\n",
    "        return 0\n",
    "    if n == 2:\n",
    "        return 1\n",
    "    return fib_recursive(n-1) + fib_recursive(n-2)\n",
    "\n",
    "# here is a 1-index \n",
    "for i in [1, 2, 7, 13, 29, 33]:\n",
    "    print(fib_recursive(i))"
   ]
  },
  {
   "cell_type": "markdown",
   "metadata": {},
   "source": [
    "### Q1. \n",
    "\n",
    "What are the space and time complexities of this implementation? Hint: think aboutthe number of items in a binary tree and its depth."
   ]
  },
  {
   "cell_type": "markdown",
   "metadata": {},
   "source": [
    "**Answer**\n",
    "\n",
    "**Time complexity**<br>\n",
    "\n",
    "Since ultimately ``fib_recursive(n)`` has to reduce to the leaf nodes of either ``fib_recursive(0)`` or ``fib_recursive(1)``, effectively, this means that n is the depth of the tree. Therefore the number of calls to this function is 2^n, hence the time complexity is $O(2^n)$\n",
    "\n",
    "**Space complexity**<br>\n",
    "\n",
    "For space, the consumption of memory is that of stack frame in the longest chain of recursive calls that are pending. That will be the depth of the tree, which we have determined above to be n for ``fib_recursive(n)``. At any given time, only one branch is recursively pending execution. Therefore the space complexity is $O(n)$, where n reflects the size of the longest branch.\n"
   ]
  },
  {
   "cell_type": "markdown",
   "metadata": {},
   "source": [
    "### Dynamic Programming and Iteration\n",
    "\n",
    "From Skiena\n",
    ">..**dynamic programming**, which typically removes one element from the problem, solves the smaller problem, and then uses the solution to this smaller problem to add back the element in the proper way. **Divide-and-conquer** instead splits the problem in (say) halves, solves each half, then stitches the pieces back together to form a full solution.\n",
    "\n",
    ">Dynamic programming is a technique for efficiently implementing a recursive algorithm by storing partial results. The trick is seeing whether the naive recursive algorithm computes the same subproblems over and over and over again. If so, storing the answer for each subproblems in a table to look up instead of recompute can lead to an efficient algorithm. Start with a recursive algorithm or definition. Only once we have a correct recursive algorithm do we worry about speeding it up by using a results matrix. Dynamic programming is generally the right method for optimization problems on combinatorial objects that have an inherent left to right order among components. Left-to-right objects includes: character strings, rooted trees, polygons, and integer sequences."
   ]
  },
  {
   "cell_type": "markdown",
   "metadata": {},
   "source": [
    "### Q2.\n",
    "\n",
    "Here is an implementation of Fibonacci using dynamic programming: they key is to notice that the recurrence we used can be put into an iterative form and just stored in an ever increasing array. What is the space and time complexity here? What if you were somehow able to save the array outside of the function when u calculate `fib(M)` and subsequently had to calculate `fib(N)`, where $N>M$."
   ]
  },
  {
   "cell_type": "code",
   "execution_count": 30,
   "metadata": {
    "collapsed": true
   },
   "outputs": [],
   "source": [
    "def fib_iterative(n):\n",
    "    fibs=[]\n",
    "    fibs.append(0)\n",
    "    fibs.append(1)\n",
    "    for i in range(2, n):\n",
    "         fibs.append(fibs[i-1]+fibs[i-2])\n",
    "    return fibs[n-1]"
   ]
  },
  {
   "cell_type": "code",
   "execution_count": 31,
   "metadata": {
    "collapsed": false
   },
   "outputs": [
    {
     "name": "stdout",
     "output_type": "stream",
     "text": [
      "0\n",
      "1\n",
      "8\n",
      "144\n",
      "317811\n",
      "2178309\n"
     ]
    }
   ],
   "source": [
    "for i in [1, 2, 7,13,29,33]:\n",
    "    print(fib_iterative(i))"
   ]
  },
  {
   "cell_type": "markdown",
   "metadata": {},
   "source": [
    "**Part 1**\n",
    "\n",
    "*What is the space and time complexity here?*\n",
    "\n",
    "**Time Complexity**\n",
    "\n",
    "There is a fixed cost of $O(1)$ for all the other lines except the 'for loop' as they are executed exactly once. Counting the loop operations, with k other lines, we have $k*(n-2)$, which the time complexity can be generalized to $O(n)$.\n",
    "\n",
    "**Space Complexity**\n",
    "\n",
    "Since the for loop creates a list of size n with the append function, the space complexity is $O(n)$\n",
    "\n",
    "**Part 2**\n",
    "<br>\n",
    "\n",
    "*What if you were somehow able to save the array outside of the function when u calculate fib(M) and subsequently had to calculate fib(N), where  $N>M$ *\n",
    "<br>\n",
    "\n",
    "**Space Complexity**\n",
    "\n",
    "As `fib(n)` still has to store the array of (n-m), hence the space complexity is $O(n)$.\n",
    "\n",
    "**Time Complexity**\n",
    "\n",
    "For $n>m$ up to fib(n), we have to find the time complexity of fib(m+1), fib(m+2),..., fib(n). $O(m-n)$ becomes asymptotic to $O(n)$. The fetching of the values from fib(m) is a constant, k. Hence the final time complexity is $O(n+k)$, which is $O(n)$\n",
    "\n",
    "\n"
   ]
  },
  {
   "cell_type": "markdown",
   "metadata": {},
   "source": [
    "### Recursive Fibonacci with cacheing"
   ]
  },
  {
   "cell_type": "markdown",
   "metadata": {},
   "source": [
    "### Q3. \n",
    "\n",
    "Use `cache` and `call_counter` as decorators on `fib_recursive` and print the fibonacci numbers for 7,13,29, 33. What order should these decorators be called to make sure `call_counter` gets the actual number of calls to `fib_recursive`?\n",
    "\n",
    "We've written the `cache` decorator for you. You have to write the `call_counter` decorator which takes the function as argument and using a `count_dictionary` whose keys are function names, counts the number of times the function is called."
   ]
  },
  {
   "cell_type": "code",
   "execution_count": 9,
   "metadata": {
    "collapsed": true
   },
   "outputs": [],
   "source": [
    "def cache(f):\n",
    "    \"\"\"f is a single argument function whose values may be cached\"\"\"\n",
    "    # creating an empty dictionary of cache\n",
    "    cache = {}\n",
    "    def memoized_func(x):\n",
    "        #pruning the call tree by the if function\n",
    "        if x not in cache:\n",
    "            cache[x] = f(x)\n",
    "        return cache[x]\n",
    "    memoized_func.__name__ = f.__name__\n",
    "    #helps create a proxy function and call it fib recursive\n",
    "    return memoized_func\n",
    "    "
   ]
  },
  {
   "cell_type": "code",
   "execution_count": 8,
   "metadata": {
    "collapsed": true
   },
   "outputs": [],
   "source": [
    "def call_counter(count_dictionary):\n",
    "    def call_counter_decorator(func):\n",
    "        name = func.__name__\n",
    "        count_dictionary[name] = 0\n",
    "        def inner(*args, **kwargs):\n",
    "            count_dictionary[name] = count_dictionary[name] + 1\n",
    "            return func(*args, **kwargs)\n",
    "        return inner\n",
    "    return call_counter_decorator"
   ]
  },
  {
   "cell_type": "code",
   "execution_count": 11,
   "metadata": {
    "collapsed": false
   },
   "outputs": [
    {
     "name": "stdout",
     "output_type": "stream",
     "text": [
      "7 8 7\n",
      "13 144 13\n",
      "29 317811 29\n",
      "33 2178309 33\n"
     ]
    }
   ],
   "source": [
    "ccounter={}\n",
    "@cache\n",
    "@call_counter(ccounter)   # f = call_counter(f,ccounter)\n",
    "#@cache\n",
    "def fib_recursive(n):\n",
    "    if n == 1:\n",
    "        return 0\n",
    "    if n == 2:\n",
    "        return 1\n",
    "    return fib_recursive(n-1) + fib_recursive(n-2)\n",
    "\n",
    "for i in [ 7,13,29, 33]:\n",
    "    print(i, fib_recursive(i), ccounter['fib_recursive'])"
   ]
  },
  {
   "cell_type": "markdown",
   "metadata": {},
   "source": [
    "**Solution**\n",
    "\n",
    "**Order of the decorators** <br>\n",
    "`@cache` <br>\n",
    "`@call_counter (ccounter)`<br>\n",
    "\n",
    "**Reasons** <br>\n",
    "We must decorate with call_counter first to count the actual number of calls to fib_recursive, otherwise, we will be counting the calls to cache decorated fib_recursive.\n",
    "\n"
   ]
  },
  {
   "cell_type": "markdown",
   "metadata": {},
   "source": [
    "### Q4.\n",
    "\n",
    "What is the time and space complexity of the the memoized Fibonacci? HINT: assume evaluation happens left to right on sub-expressions, so that `fib_recursive(n-1)` side of the tree is evaluated first, and thus the tree is evaluated depth first, from left to right. What kind of pruning happens in the tree?"
   ]
  },
  {
   "cell_type": "markdown",
   "metadata": {},
   "source": [
    "**Time Complexity**\n",
    "\n",
    "For `fib(n)`, the depth of the tree will be n. As we have pruned the tree with the cache decorator, we effectively need to go down the left most path of the tree. The memo-ization will effectively prune all the right children. Hence the time complexity is $O(n).\n",
    "\n",
    "**Space Complexity**\n",
    "\n",
    "This will stay the same as the naive algorithm above in Question 1, since the consumption of memory is still that of stack frame in the longest chain of recursive calls that are pending. Hence the space complexity here for ``fib_recursive(n)`` with decorators is $O(n)$.\n",
    "\n",
    "**Pruning** \n",
    "\n",
    "The memo-ization will effectively prune all the right hand branches of the tree, except for the left-most fib(1) leaf, as we start with fib(1), fib(2) as the base cases.\n"
   ]
  },
  {
   "cell_type": "markdown",
   "metadata": {},
   "source": [
    "### Q5.\n",
    "\n",
    "Do you really need to store the entire array in the dynamic programming implementation? Isnt it enough to have only saved the previous two Fibonacci numbers? Implement such an algorithm in `fib_iterative2(n)`. What is its space and time complexity? How is the time complexity different from that of the previous iterative attempt?"
   ]
  },
  {
   "cell_type": "code",
   "execution_count": 1,
   "metadata": {
    "collapsed": true
   },
   "outputs": [],
   "source": [
    "def fib_iterative2(n):\n",
    "    if (n==1):\n",
    "        return 0\n",
    "    a = 0\n",
    "    b = 1\n",
    "    for i in range(3, n+1):\n",
    "        c = a + b\n",
    "        a = b\n",
    "        b = c\n",
    "    return b"
   ]
  },
  {
   "cell_type": "code",
   "execution_count": 2,
   "metadata": {
    "collapsed": false
   },
   "outputs": [
    {
     "name": "stdout",
     "output_type": "stream",
     "text": [
      "0\n",
      "1\n",
      "8\n",
      "144\n",
      "317811\n",
      "2178309\n"
     ]
    }
   ],
   "source": [
    "for i in [1, 2, 7,13,29,33]:\n",
    "    print(fib_iterative2(i))"
   ]
  },
  {
   "cell_type": "markdown",
   "metadata": {},
   "source": [
    "The above algorithm's time complexity is $O(n)$. The time complexity remains the same from the previous iterative attempt. However, the space complexity improves to $O(1)$ since the memory usage is constant."
   ]
  },
  {
   "cell_type": "markdown",
   "metadata": {},
   "source": [
    "### Q6.\n",
    "\n",
    "Write an algorithm for insertion sort.\n",
    "\n",
    "![](https://camo.githubusercontent.com/8f6fedc10da579f13b22b949f6ad29255b6d721f/68747470733a2f2f75706c6f61642e77696b696d656469612e6f72672f77696b6970656469612f636f6d6d6f6e732f302f30662f496e73657274696f6e2d736f72742d6578616d706c652d33303070782e676966)\n",
    "\n",
    "(from wikipedia)\n",
    "\n",
    "The algorithm is also illustrated here: http://cs.armstrong.edu/liang/animation/web/InsertionSort.html and may be described thus:\n",
    "\n",
    "Insertion sort is a method for sorting that starts with a single element (thus forming a trivially sorted list) and then incrementally inserts the remaining elements so that the list stays sorted.\n",
    "\n",
    "Talk about the best, worst and average complexity of insertion sort. Use the A=[5,2,1,3,8,6,9] to show your code!"
   ]
  },
  {
   "cell_type": "code",
   "execution_count": 5,
   "metadata": {
    "collapsed": false
   },
   "outputs": [],
   "source": [
    "def insertion_sort(array):\n",
    "    for slot in range(1, len(array)): \n",
    "        # iterate from second element of the array onwards\n",
    "        value = array[slot] #value is the second element onwards\n",
    "        test_slot = slot - 1 \n",
    "        # if the left hand side is greater then shift the LHS to the right\n",
    "        while test_slot >= 0 and array[test_slot] > value:\n",
    "            array[test_slot + 1] = array[test_slot]\n",
    "            #shift further to the left\n",
    "            test_slot = test_slot - 1\n",
    "        # assign the value captu red back\n",
    "        array[test_slot + 1] = value\n",
    "    return array"
   ]
  },
  {
   "cell_type": "code",
   "execution_count": 6,
   "metadata": {
    "collapsed": false
   },
   "outputs": [
    {
     "data": {
      "text/plain": [
       "[1, 2, 3, 5, 6, 8, 9]"
      ]
     },
     "execution_count": 6,
     "metadata": {},
     "output_type": "execute_result"
    }
   ],
   "source": [
    "A=[5,2,1,3,8,6,9]\n",
    "\n",
    "insertion_sort(A)"
   ]
  },
  {
   "cell_type": "markdown",
   "metadata": {},
   "source": [
    "**Best Case Time Complexity** <br>\n",
    "\n",
    "The insertion sort scans through the list of n elements, compare one element with another element on the left (in pairs), then it swaps the elements if they are out of order. Hence there will be at least n operations (length of the array) that sum up to the total time complexity of the algorithm. In the best case scenario, the input array is already sorted, hence the algorithm merely compares the elements as it runs down the array and performs no swaps. This means that in the code above, the while loop is never triggered. As such the time complexity is $O(n)$.\n",
    "\n",
    "**Worst and Average Case Time Complexity** <br>\n",
    "\n",
    "Assuming that we would like to sort the array in ascending order, the worst case scenario will occur when the input array is in descending order. To insert the last element, we need a maximum of $n-1$ comparisons and $n-1$ swaps; similary, to insert the second last element, there will be $n-2$ comparisons and $n-2$ swaps. Hence the total number of operations will be:\n",
    "\n",
    "$$2(1+2+...+ n-2+ n-1)$$\n",
    "\n",
    "Following the summation notation:\n",
    "$$\\sum_{q=1}^{p} q = \\frac{p(p+1)}n $$\n",
    "\n",
    "The time complexity is:\n",
    "$$\\frac{2(n-1)(n-1+1)}2 = n(n-1)$$\n",
    "\n",
    "When simplified, the time complexity is $O(n^2)$\n",
    "\n",
    "**Space Complexity**\n",
    "\n",
    "Assuming the array is passed as a parameter, the space complexity is is $O(1)$ because the memory allocation is constant and allocated for. If on the other hand, the array space consumption is charged to the insertion sort function, then the space complexity is $O(n)$."
   ]
  }
 ],
 "metadata": {
  "anaconda-cloud": {},
  "kernelspec": {
   "display_name": "Python [py35]",
   "language": "python",
   "name": "Python [py35]"
  },
  "language_info": {
   "codemirror_mode": {
    "name": "ipython",
    "version": 3
   },
   "file_extension": ".py",
   "mimetype": "text/x-python",
   "name": "python",
   "nbconvert_exporter": "python",
   "pygments_lexer": "ipython3",
   "version": "3.5.2"
  }
 },
 "nbformat": 4,
 "nbformat_minor": 0
}
