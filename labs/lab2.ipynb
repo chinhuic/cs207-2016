{
 "cells": [
  {
   "cell_type": "markdown",
   "metadata": {
    "collapsed": true,
    "slideshow": {
     "slide_type": "slide"
    }
   },
   "source": [
    "### Closures\n",
    "\n",
    "Since the inner functions can \"capture\" information from an outer function's environment, the inner function is sometimes called a *closure*.\n",
    "\n",
    "Notice that `x`, once captured by the inner function, cannot now be changed: we have *lost direct access to its manipulation*. This process is called *encapsulation*, and is a cornerstone of object oriented programming."
   ]
  },
  {
   "cell_type": "code",
   "execution_count": 1,
   "metadata": {
    "collapsed": false,
    "slideshow": {
     "slide_type": "slide"
    }
   },
   "outputs": [
    {
     "data": {
      "text/plain": [
       "4"
      ]
     },
     "execution_count": 1,
     "metadata": {},
     "output_type": "execute_result"
    }
   ],
   "source": [
    "def f():\n",
    "    a=1\n",
    "    def g(b):\n",
    "        c=b+a\n",
    "        return c\n",
    "    return g\n",
    "myg=f()\n",
    "myg(3)"
   ]
  },
  {
   "cell_type": "markdown",
   "metadata": {
    "slideshow": {
     "slide_type": "slide"
    }
   },
   "source": [
    "### Augmenting Functions\n",
    "\n",
    "Since functions are first class, we might want to augment them to put out, for example, call information, time information, etc"
   ]
  },
  {
   "cell_type": "code",
   "execution_count": 2,
   "metadata": {
    "collapsed": true,
    "slideshow": {
     "slide_type": "fragment"
    }
   },
   "outputs": [],
   "source": [
    "\n",
    "import time\n",
    "def timer(f):\n",
    "    def inner(*args):\n",
    "        t0 = time.time()\n",
    "        output = f(*args)\n",
    "        elapsed = time.time() - t0\n",
    "        print(\"Time Elapsed\", elapsed)\n",
    "    return inner"
   ]
  },
  {
   "cell_type": "code",
   "execution_count": 3,
   "metadata": {
    "collapsed": false,
    "slideshow": {
     "slide_type": "fragment"
    }
   },
   "outputs": [
    {
     "name": "stdout",
     "output_type": "stream",
     "text": [
      "Time Elapsed 0.005419015884399414\n"
     ]
    }
   ],
   "source": [
    "def myf(x,n):\n",
    "    y=[x]*n\n",
    "    return y\n",
    "myfnew = timer(myf)\n",
    "myfnew(5,1000000)"
   ]
  },
  {
   "cell_type": "markdown",
   "metadata": {
    "slideshow": {
     "slide_type": "slide"
    }
   },
   "source": [
    "This pattern comes up so often that Python provides syntax for this\n",
    "\n",
    "### Decorators\n",
    "\n",
    "The idea and syntax is simple.\n",
    "\n",
    "```python\n",
    "@decorate\n",
    "def target():\n",
    "    pass\n",
    "```\n",
    "\n",
    "is equivalent to:\n",
    "\n",
    "```python\n",
    "def target():\n",
    "    pass\n",
    "target = decorate(target)\n",
    "```"
   ]
  },
  {
   "cell_type": "code",
   "execution_count": 64,
   "metadata": {
    "collapsed": false,
    "slideshow": {
     "slide_type": "subslide"
    }
   },
   "outputs": [
    {
     "name": "stdout",
     "output_type": "stream",
     "text": [
      "Time Elapsed 0.061762094497680664\n"
     ]
    }
   ],
   "source": [
    "@timer\n",
    "def myf(x,n):\n",
    "    y=[x]*n\n",
    "    return y\n",
    "myf(5,10000000)"
   ]
  },
  {
   "cell_type": "code",
   "execution_count": 8,
   "metadata": {
    "collapsed": false,
    "slideshow": {
     "slide_type": "subslide"
    }
   },
   "outputs": [
    {
     "name": "stdout",
     "output_type": "stream",
     "text": [
      "decorating\n"
     ]
    },
    {
     "data": {
      "text/plain": [
       "<function __main__.decorate.<locals>.inner>"
      ]
     },
     "execution_count": 8,
     "metadata": {},
     "output_type": "execute_result"
    }
   ],
   "source": [
    "# a stupid decorator\n",
    "def decorate(f):\n",
    "    print(\"decorating\")\n",
    "    a = 1\n",
    "    def inner(*args):\n",
    "        b = f(*args)\n",
    "        print(\"[\", b,\"]\",a)\n",
    "    return inner\n",
    "\n",
    "decorate(1)"
   ]
  },
  {
   "cell_type": "markdown",
   "metadata": {
    "slideshow": {
     "slide_type": "subslide"
    }
   },
   "source": [
    "A key thing to remmember that a decorator is run RIGHT AFTER the function is defined, not when the function is called. Thus if you had the above decorator code in a module, it would print \"decorating\" when importing the module. Notice that the concept of a closure is used: the state a=1 is captured into the decorated function above."
   ]
  },
  {
   "cell_type": "code",
   "execution_count": 13,
   "metadata": {
    "collapsed": false,
    "slideshow": {
     "slide_type": "fragment"
    }
   },
   "outputs": [
    {
     "name": "stdout",
     "output_type": "stream",
     "text": [
      "decorating\n"
     ]
    }
   ],
   "source": [
    "@decorate\n",
    "def f(a,b,c):\n",
    "    return a + b + c"
   ]
  },
  {
   "cell_type": "code",
   "execution_count": 12,
   "metadata": {
    "collapsed": false,
    "slideshow": {
     "slide_type": "subslide"
    }
   },
   "outputs": [
    {
     "name": "stdout",
     "output_type": "stream",
     "text": [
      "[ 6 ] 1\n"
     ]
    }
   ],
   "source": [
    "\n",
    "f(1,2,3)"
   ]
  },
  {
   "cell_type": "code",
   "execution_count": 4,
   "metadata": {
    "collapsed": false
   },
   "outputs": [
    {
     "ename": "SyntaxError",
     "evalue": "invalid syntax (<ipython-input-4-5c1a1df525e9>, line 1)",
     "output_type": "error",
     "traceback": [
      "\u001b[0;36m  File \u001b[0;32m\"<ipython-input-4-5c1a1df525e9>\"\u001b[0;36m, line \u001b[0;32m1\u001b[0m\n\u001b[0;31m    HTML('<iframe width=\"800\" height=\"500\" frameborder=\"0\" src=\"http://pythontutor.com/iframe-embed.html#code=print%20('Hello'%29&codeDivHeight=400&codeDivWidth=350&cumulative=false&curInstr=1&heapPrimitives=false&origin=opt-frontend.js&py=3&rawInputLstJSON=%5B%5D&textReferences=false\"> </iframe>')\u001b[0m\n\u001b[0m                                                                                                                            ^\u001b[0m\n\u001b[0;31mSyntaxError\u001b[0m\u001b[0;31m:\u001b[0m invalid syntax\n"
     ]
    }
   ],
   "source": [
    "HTML('<iframe width=\"800\" height=\"500\" frameborder=\"0\" src=\"http://pythontutor.com/iframe-embed.html#code=print%20('Hello'%29&codeDivHeight=400&codeDivWidth=350&cumulative=false&curInstr=1&heapPrimitives=false&origin=opt-frontend.js&py=3&rawInputLstJSON=%5B%5D&textReferences=false\"> </iframe>')"
   ]
  },
  {
   "cell_type": "code",
   "execution_count": null,
   "metadata": {
    "collapsed": true
   },
   "outputs": [],
   "source": []
  }
 ],
 "metadata": {
  "anaconda-cloud": {},
  "celltoolbar": "Slideshow",
  "kernelspec": {
   "display_name": "Python [py35]",
   "language": "python",
   "name": "Python [py35]"
  },
  "language_info": {
   "codemirror_mode": {
    "name": "ipython",
    "version": 3
   },
   "file_extension": ".py",
   "mimetype": "text/x-python",
   "name": "python",
   "nbconvert_exporter": "python",
   "pygments_lexer": "ipython3",
   "version": "3.5.2"
  }
 },
 "nbformat": 4,
 "nbformat_minor": 0
}
