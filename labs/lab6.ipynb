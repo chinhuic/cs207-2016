{
 "cells": [
  {
   "cell_type": "markdown",
   "metadata": {},
   "source": [
    "## `array.array` and `np.array`\n",
    "\n",
    "### array.array\n",
    "\n",
    "The list type is nice and very flexible, but if you need to store many many (millions) of floating point variables, array.array is a better option. It stores just the bytes representing the type, so its just like a contiguous C array of things in RAM, and also just like a numpy array. \n",
    "\n",
    "`array.array` IS mutable, and you dont need to allocate ahead of time (reallocation will be done).\n",
    "\n",
    "The constructor is: \n",
    "\n",
    "`array(typecode [, initializer]) -- create a new array`\n",
    "\n"
   ]
  },
  {
   "cell_type": "code",
   "execution_count": 23,
   "metadata": {
    "collapsed": true
   },
   "outputs": [],
   "source": [
    "from array import array\n",
    "from random import random\n",
    "#generator expression instead of list comprehension\n",
    "floats_aa=array('d', (random() for i in range(10**8)))"
   ]
  },
  {
   "cell_type": "code",
   "execution_count": 24,
   "metadata": {
    "collapsed": false
   },
   "outputs": [
    {
     "data": {
      "text/plain": [
       "8"
      ]
     },
     "execution_count": 24,
     "metadata": {},
     "output_type": "execute_result"
    }
   ],
   "source": [
    "floats_aa.itemsize"
   ]
  },
  {
   "cell_type": "code",
   "execution_count": 25,
   "metadata": {
    "collapsed": false
   },
   "outputs": [
    {
     "data": {
      "text/plain": [
       "(array.array, 0.16155087887707942)"
      ]
     },
     "execution_count": 25,
     "metadata": {},
     "output_type": "execute_result"
    }
   ],
   "source": [
    "type(floats_aa), floats_aa[5]"
   ]
  },
  {
   "cell_type": "markdown",
   "metadata": {},
   "source": [
    "### Numpy arrays\n",
    "\n",
    "I'll refer you to their quickstart in case you have not already worked with them. Bottom line: they need a size!\n",
    "\n",
    "https://docs.scipy.org/doc/numpy-dev/user/quickstart.html\n"
   ]
  },
  {
   "cell_type": "code",
   "execution_count": 26,
   "metadata": {
    "collapsed": false
   },
   "outputs": [],
   "source": [
    "import numpy as np\n",
    "af_array = np.array([1,2,3], dtype=\"float64\")"
   ]
  },
  {
   "cell_type": "code",
   "execution_count": 27,
   "metadata": {
    "collapsed": false
   },
   "outputs": [
    {
     "data": {
      "text/plain": [
       "array([ 1.,  2.,  3.])"
      ]
     },
     "execution_count": 27,
     "metadata": {},
     "output_type": "execute_result"
    }
   ],
   "source": [
    "af_array"
   ]
  },
  {
   "cell_type": "code",
   "execution_count": 28,
   "metadata": {
    "collapsed": false
   },
   "outputs": [
    {
     "data": {
      "text/plain": [
       "(dtype('float64'), (3,), 1)"
      ]
     },
     "execution_count": 28,
     "metadata": {},
     "output_type": "execute_result"
    }
   ],
   "source": [
    "af_array.dtype, af_array.shape, af_array.ndim"
   ]
  },
  {
   "cell_type": "code",
   "execution_count": 29,
   "metadata": {
    "collapsed": false
   },
   "outputs": [],
   "source": [
    "af_array_2 = np.ones(shape=10, dtype=int)"
   ]
  },
  {
   "cell_type": "code",
   "execution_count": 30,
   "metadata": {
    "collapsed": false
   },
   "outputs": [
    {
     "data": {
      "text/plain": [
       "array([1, 1, 1, 1, 1, 1, 1, 1, 1, 1])"
      ]
     },
     "execution_count": 30,
     "metadata": {},
     "output_type": "execute_result"
    }
   ],
   "source": [
    "af_array_2"
   ]
  },
  {
   "cell_type": "code",
   "execution_count": 31,
   "metadata": {
    "collapsed": true
   },
   "outputs": [],
   "source": [
    "af_array_3 = np.ones(shape=(10,), dtype=\"float32\")"
   ]
  },
  {
   "cell_type": "code",
   "execution_count": 32,
   "metadata": {
    "collapsed": false
   },
   "outputs": [
    {
     "data": {
      "text/plain": [
       "array([ 1.,  1.,  1.,  1.,  1.,  1.,  1.,  1.,  1.,  1.], dtype=float32)"
      ]
     },
     "execution_count": 32,
     "metadata": {},
     "output_type": "execute_result"
    }
   ],
   "source": [
    "af_array_3"
   ]
  },
  {
   "cell_type": "markdown",
   "metadata": {},
   "source": [
    "## Where do trees arise\n",
    "\n",
    "A tree is:\n",
    "\n",
    "- a hierarchical data structure that has a bunch of items,\n",
    "- each of which may have a value\n",
    "- some of which may point to other such items, and some that dont (leaf nodes)\n",
    "- each item is pointed to by exactly one other item, with the sole exception of the root.\n",
    "\n",
    "\n",
    "Trees arise everywhere:\n",
    "\n",
    "- in parsing of code\n",
    "- evolutionary trees in biology\n",
    "- language origin trees\n",
    "- unix file system\n",
    "- html tags on this page\n",
    "\n",
    "Just like with lists, one can consider looking at a tree in two ways: a collection of nodes, or a tree with a root and multiple sub-tree's.\n"
   ]
  },
  {
   "cell_type": "markdown",
   "metadata": {},
   "source": [
    "### Parsing into a Tree\n",
    "\n",
    "Consider writing a small calculator language, which takes calculator expressions written in an prefix format, and calculates them for us.\n",
    "\n",
    "Parsing is the idea of generating an expression tree from code text. A parser has 2 components:\n",
    "\n",
    "1. a lexical analyser or lexer which converts code into tokens\n",
    "2. a syntactic analyzer which constructs an expression tree from these tokens\n",
    "\n",
    "Here is code for our infix calculator. We have no variables, and no precedence, to keep things simple. Brackets need to be explicit.\n",
    "\n",
    "`(+ 1 (* 2 3)) = 7`\n",
    "\n",
    " We will need to **parse** this expression: the output will be a parse tree. For simplicity we will assume that all operations are binary, and thus represent the parse tree is a binary tree..."
   ]
  },
  {
   "cell_type": "code",
   "execution_count": 33,
   "metadata": {
    "collapsed": true
   },
   "outputs": [],
   "source": [
    "from IPython.display import Image"
   ]
  },
  {
   "cell_type": "code",
   "execution_count": 44,
   "metadata": {
    "collapsed": true
   },
   "outputs": [],
   "source": [
    "import uuid\n",
    "class BinaryTree:\n",
    "    def __init__(self, value, parent=None):\n",
    "        self.value = value\n",
    "        self.parent = parent\n",
    "        self.uuid= uuid.uuid4()\n",
    "        self.left = None\n",
    "        self.right = None\n",
    "\n",
    "    def addLeftChild(self, value): \n",
    "        n = BinaryTree(value, self)\n",
    "        self.left = n\n",
    "        return n\n",
    "        \n",
    "    def addRightChild(self, value):\n",
    "        n = BinaryTree(value, self)\n",
    "        self.right = n\n",
    "        return n\n",
    "        \n",
    "    def hasLeftChild(self):\n",
    "        return self.left != None\n",
    "\n",
    "    def hasRightChild(self):\n",
    "        return self.right != None\n",
    "\n",
    "    def isLeftChild(self):\n",
    "        return self.parent and self.parent.left == self\n",
    "\n",
    "    def isRightChild(self):\n",
    "        return self.parent and self.parent.right == self\n",
    "\n",
    "    def isRoot(self):\n",
    "        return not self.parent\n",
    "\n",
    "    def isLeaf(self):\n",
    "        return not (self.right or self.left)\n",
    "    \n",
    "    def preorder(self):\n",
    "        if self.isLeftChild():\n",
    "            yield (self.parent.value, self.parent.uuid, self.value, self.uuid, \"left\")\n",
    "        elif self.isRightChild():\n",
    "            yield (self.parent.value, self.parent.uuid, self.value, self.uuid, \"right\")\n",
    "        if self.hasLeftChild():\n",
    "            for v in self.left.preorder():\n",
    "                yield v\n",
    "        if self.hasRightChild():\n",
    "            for v in self.right.preorder():\n",
    "                yield v\n"
   ]
  },
  {
   "cell_type": "code",
   "execution_count": 45,
   "metadata": {
    "collapsed": false
   },
   "outputs": [
    {
     "data": {
      "text/plain": [
       "<__main__.BinaryTree at 0x13a3ae710>"
      ]
     },
     "execution_count": 45,
     "metadata": {},
     "output_type": "execute_result"
    }
   ],
   "source": [
    "junk = BinaryTree(5)\n",
    "l = junk.addLeftChild(3)\n",
    "r = junk.addRightChild(31)\n",
    "l.addLeftChild(8)\n",
    "l.addRightChild(3)\n",
    "r.addRightChild(22)"
   ]
  },
  {
   "cell_type": "code",
   "execution_count": 46,
   "metadata": {
    "collapsed": false
   },
   "outputs": [
    {
     "data": {
      "text/plain": [
       "(True, <__main__.BinaryTree at 0x13a3ae908>, 3)"
      ]
     },
     "execution_count": 46,
     "metadata": {},
     "output_type": "execute_result"
    }
   ],
   "source": [
    "junk.hasLeftChild(), junk.left, junk.left.value"
   ]
  },
  {
   "cell_type": "code",
   "execution_count": 47,
   "metadata": {
    "collapsed": false
   },
   "outputs": [
    {
     "data": {
      "text/plain": [
       "(3, 3)"
      ]
     },
     "execution_count": 47,
     "metadata": {},
     "output_type": "execute_result"
    }
   ],
   "source": [
    "l.value, l.right.value"
   ]
  },
  {
   "cell_type": "code",
   "execution_count": 48,
   "metadata": {
    "collapsed": false
   },
   "outputs": [
    {
     "data": {
      "text/plain": [
       "<generator object BinaryTree.preorder at 0x13a38c468>"
      ]
     },
     "execution_count": 48,
     "metadata": {},
     "output_type": "execute_result"
    }
   ],
   "source": [
    "junk.preorder()"
   ]
  },
  {
   "cell_type": "code",
   "execution_count": 49,
   "metadata": {
    "collapsed": true
   },
   "outputs": [],
   "source": [
    "import subprocess\n",
    "def plotbtree(btree, fname):\n",
    "    start=\"\"\"\n",
    "    digraph G {\n",
    "    nodesep=0.3;\n",
    "    ranksep=0.2;\n",
    "    margin=0.1;\n",
    "    node [shape=circle];\n",
    "    edge [arrowsize=0.8];\n",
    "    \"\"\"\n",
    "    end = \"}\"\n",
    "    assert btree.isRoot(), \"Must start at root\"\n",
    "    lines=\"\"\n",
    "    labeldict={}\n",
    "    for t in btree.preorder():\n",
    "        if not t[1] in labeldict:\n",
    "            labeldict[t[1]]=t[0]\n",
    "        if not t[3] in labeldict:\n",
    "            labeldict[t[3]]=t[2]\n",
    "        lines = lines + \"\\\"{}\\\" -> \\\"{}\\\"[side={}];\\n\".format(t[1],t[3],t[4])\n",
    "    end=\"\\n\".join([\"\\\"{}\\\"[label=\\\"{}\\\"]\".format(k,v) for (k, v) in labeldict.items()])+end\n",
    "    start = start + lines +end\n",
    "    with open(fname+\".dot\",\"w\") as fd:\n",
    "        fd.write(start)\n",
    "    #comment out if needed\n",
    "    subprocess.call(['./treeplot.sh', fname])"
   ]
  },
  {
   "cell_type": "markdown",
   "metadata": {},
   "source": [
    "You can plot resultant graphs online as well: http://sandbox.kidstrythisathome.com/erdos/"
   ]
  },
  {
   "cell_type": "code",
   "execution_count": 53,
   "metadata": {
    "collapsed": false
   },
   "outputs": [
    {
     "ename": "FileNotFoundError",
     "evalue": "[Errno 2] No such file or directory: './treeplot.sh'",
     "output_type": "error",
     "traceback": [
      "\u001b[0;31m---------------------------------------------------------------------------\u001b[0m",
      "\u001b[0;31mFileNotFoundError\u001b[0m                         Traceback (most recent call last)",
      "\u001b[0;32m<ipython-input-53-1096f1eff5ce>\u001b[0m in \u001b[0;36m<module>\u001b[0;34m()\u001b[0m\n\u001b[0;32m----> 1\u001b[0;31m \u001b[0mplotbtree\u001b[0m\u001b[0;34m(\u001b[0m\u001b[0mjunk\u001b[0m\u001b[0;34m,\u001b[0m \u001b[0;34m\"junk\"\u001b[0m\u001b[0;34m)\u001b[0m\u001b[0;34m\u001b[0m\u001b[0m\n\u001b[0m",
      "\u001b[0;32m<ipython-input-49-f6a22594d03d>\u001b[0m in \u001b[0;36mplotbtree\u001b[0;34m(btree, fname)\u001b[0m\n\u001b[1;32m     24\u001b[0m         \u001b[0mfd\u001b[0m\u001b[0;34m.\u001b[0m\u001b[0mwrite\u001b[0m\u001b[0;34m(\u001b[0m\u001b[0mstart\u001b[0m\u001b[0;34m)\u001b[0m\u001b[0;34m\u001b[0m\u001b[0m\n\u001b[1;32m     25\u001b[0m     \u001b[0;31m#comment out if needed\u001b[0m\u001b[0;34m\u001b[0m\u001b[0;34m\u001b[0m\u001b[0m\n\u001b[0;32m---> 26\u001b[0;31m     \u001b[0msubprocess\u001b[0m\u001b[0;34m.\u001b[0m\u001b[0mcall\u001b[0m\u001b[0;34m(\u001b[0m\u001b[0;34m[\u001b[0m\u001b[0;34m'./treeplot.sh'\u001b[0m\u001b[0;34m,\u001b[0m \u001b[0mfname\u001b[0m\u001b[0;34m]\u001b[0m\u001b[0;34m)\u001b[0m\u001b[0;34m\u001b[0m\u001b[0m\n\u001b[0m",
      "\u001b[0;32m/Users/chinhuichew/anaconda/envs/py35/lib/python3.5/subprocess.py\u001b[0m in \u001b[0;36mcall\u001b[0;34m(timeout, *popenargs, **kwargs)\u001b[0m\n\u001b[1;32m    555\u001b[0m     \u001b[0mretcode\u001b[0m \u001b[0;34m=\u001b[0m \u001b[0mcall\u001b[0m\u001b[0;34m(\u001b[0m\u001b[0;34m[\u001b[0m\u001b[0;34m\"ls\"\u001b[0m\u001b[0;34m,\u001b[0m \u001b[0;34m\"-l\"\u001b[0m\u001b[0;34m]\u001b[0m\u001b[0;34m)\u001b[0m\u001b[0;34m\u001b[0m\u001b[0m\n\u001b[1;32m    556\u001b[0m     \"\"\"\n\u001b[0;32m--> 557\u001b[0;31m     \u001b[0;32mwith\u001b[0m \u001b[0mPopen\u001b[0m\u001b[0;34m(\u001b[0m\u001b[0;34m*\u001b[0m\u001b[0mpopenargs\u001b[0m\u001b[0;34m,\u001b[0m \u001b[0;34m**\u001b[0m\u001b[0mkwargs\u001b[0m\u001b[0;34m)\u001b[0m \u001b[0;32mas\u001b[0m \u001b[0mp\u001b[0m\u001b[0;34m:\u001b[0m\u001b[0;34m\u001b[0m\u001b[0m\n\u001b[0m\u001b[1;32m    558\u001b[0m         \u001b[0;32mtry\u001b[0m\u001b[0;34m:\u001b[0m\u001b[0;34m\u001b[0m\u001b[0m\n\u001b[1;32m    559\u001b[0m             \u001b[0;32mreturn\u001b[0m \u001b[0mp\u001b[0m\u001b[0;34m.\u001b[0m\u001b[0mwait\u001b[0m\u001b[0;34m(\u001b[0m\u001b[0mtimeout\u001b[0m\u001b[0;34m=\u001b[0m\u001b[0mtimeout\u001b[0m\u001b[0;34m)\u001b[0m\u001b[0;34m\u001b[0m\u001b[0m\n",
      "\u001b[0;32m/Users/chinhuichew/anaconda/envs/py35/lib/python3.5/subprocess.py\u001b[0m in \u001b[0;36m__init__\u001b[0;34m(self, args, bufsize, executable, stdin, stdout, stderr, preexec_fn, close_fds, shell, cwd, env, universal_newlines, startupinfo, creationflags, restore_signals, start_new_session, pass_fds)\u001b[0m\n\u001b[1;32m    945\u001b[0m                                 \u001b[0mc2pread\u001b[0m\u001b[0;34m,\u001b[0m \u001b[0mc2pwrite\u001b[0m\u001b[0;34m,\u001b[0m\u001b[0;34m\u001b[0m\u001b[0m\n\u001b[1;32m    946\u001b[0m                                 \u001b[0merrread\u001b[0m\u001b[0;34m,\u001b[0m \u001b[0merrwrite\u001b[0m\u001b[0;34m,\u001b[0m\u001b[0;34m\u001b[0m\u001b[0m\n\u001b[0;32m--> 947\u001b[0;31m                                 restore_signals, start_new_session)\n\u001b[0m\u001b[1;32m    948\u001b[0m         \u001b[0;32mexcept\u001b[0m\u001b[0;34m:\u001b[0m\u001b[0;34m\u001b[0m\u001b[0m\n\u001b[1;32m    949\u001b[0m             \u001b[0;31m# Cleanup if the child failed starting.\u001b[0m\u001b[0;34m\u001b[0m\u001b[0;34m\u001b[0m\u001b[0m\n",
      "\u001b[0;32m/Users/chinhuichew/anaconda/envs/py35/lib/python3.5/subprocess.py\u001b[0m in \u001b[0;36m_execute_child\u001b[0;34m(self, args, executable, preexec_fn, close_fds, pass_fds, cwd, env, startupinfo, creationflags, shell, p2cread, p2cwrite, c2pread, c2pwrite, errread, errwrite, restore_signals, start_new_session)\u001b[0m\n\u001b[1;32m   1549\u001b[0m                             \u001b[0;32melse\u001b[0m\u001b[0;34m:\u001b[0m\u001b[0;34m\u001b[0m\u001b[0m\n\u001b[1;32m   1550\u001b[0m                                 \u001b[0merr_msg\u001b[0m \u001b[0;34m+=\u001b[0m \u001b[0;34m': '\u001b[0m \u001b[0;34m+\u001b[0m \u001b[0mrepr\u001b[0m\u001b[0;34m(\u001b[0m\u001b[0morig_executable\u001b[0m\u001b[0;34m)\u001b[0m\u001b[0;34m\u001b[0m\u001b[0m\n\u001b[0;32m-> 1551\u001b[0;31m                     \u001b[0;32mraise\u001b[0m \u001b[0mchild_exception_type\u001b[0m\u001b[0;34m(\u001b[0m\u001b[0merrno_num\u001b[0m\u001b[0;34m,\u001b[0m \u001b[0merr_msg\u001b[0m\u001b[0;34m)\u001b[0m\u001b[0;34m\u001b[0m\u001b[0m\n\u001b[0m\u001b[1;32m   1552\u001b[0m                 \u001b[0;32mraise\u001b[0m \u001b[0mchild_exception_type\u001b[0m\u001b[0;34m(\u001b[0m\u001b[0merr_msg\u001b[0m\u001b[0;34m)\u001b[0m\u001b[0;34m\u001b[0m\u001b[0m\n\u001b[1;32m   1553\u001b[0m \u001b[0;34m\u001b[0m\u001b[0m\n",
      "\u001b[0;31mFileNotFoundError\u001b[0m: [Errno 2] No such file or directory: './treeplot.sh'"
     ]
    }
   ],
   "source": [
    "plotbtree(junk, \"junk\")"
   ]
  },
  {
   "cell_type": "code",
   "execution_count": 51,
   "metadata": {
    "collapsed": false
   },
   "outputs": [
    {
     "name": "stdout",
     "output_type": "stream",
     "text": [
      "\r\n",
      "    digraph G {\r\n",
      "    nodesep=0.3;\r\n",
      "    ranksep=0.2;\r\n",
      "    margin=0.1;\r\n",
      "    node [shape=circle];\r\n",
      "    edge [arrowsize=0.8];\r\n",
      "    \"5f4f1856-4302-4ada-9249-c1eccdcdfae7\" -> \"95c49dd0-0fe1-46c7-963d-c525df0433e3\"[side=left];\r\n",
      "\"95c49dd0-0fe1-46c7-963d-c525df0433e3\" -> \"941d5d69-f47d-4d7f-9eee-613cf916ca12\"[side=left];\r\n",
      "\"95c49dd0-0fe1-46c7-963d-c525df0433e3\" -> \"34f93d4c-7b5a-4896-9acb-7a197731d405\"[side=right];\r\n",
      "\"5f4f1856-4302-4ada-9249-c1eccdcdfae7\" -> \"78efd193-a915-4abd-b087-4e7370dea759\"[side=right];\r\n",
      "\"78efd193-a915-4abd-b087-4e7370dea759\" -> \"c58e74c7-fe06-47d1-9cf0-cd634a91b2d7\"[side=right];\r\n",
      "\"941d5d69-f47d-4d7f-9eee-613cf916ca12\"[label=\"8\"]\r\n",
      "\"78efd193-a915-4abd-b087-4e7370dea759\"[label=\"31\"]\r\n",
      "\"95c49dd0-0fe1-46c7-963d-c525df0433e3\"[label=\"3\"]\r\n",
      "\"34f93d4c-7b5a-4896-9acb-7a197731d405\"[label=\"3\"]\r\n",
      "\"5f4f1856-4302-4ada-9249-c1eccdcdfae7\"[label=\"5\"]\r\n",
      "\"c58e74c7-fe06-47d1-9cf0-cd634a91b2d7\"[label=\"22\"]}"
     ]
    }
   ],
   "source": [
    "!cat junk.dot"
   ]
  },
  {
   "cell_type": "code",
   "execution_count": 43,
   "metadata": {
    "collapsed": false
   },
   "outputs": [
    {
     "data": {
      "image/png": "junk.png",
      "text/plain": [
       "<IPython.core.display.Image object>"
      ]
     },
     "execution_count": 43,
     "metadata": {},
     "output_type": "execute_result"
    }
   ],
   "source": [
    "Image(\"junk.png\")\n"
   ]
  },
  {
   "cell_type": "code",
   "execution_count": null,
   "metadata": {
    "collapsed": false
   },
   "outputs": [],
   "source": [
    "!cat treeplot.sh"
   ]
  },
  {
   "cell_type": "code",
   "execution_count": null,
   "metadata": {
    "collapsed": false
   },
   "outputs": [],
   "source": [
    "!cat tree.gv"
   ]
  },
  {
   "cell_type": "markdown",
   "metadata": {},
   "source": [
    "### Lexing"
   ]
  },
  {
   "cell_type": "code",
   "execution_count": null,
   "metadata": {
    "collapsed": false
   },
   "outputs": [],
   "source": [
    "import string\n",
    "#some code from composing programs\n",
    "_WHITESPACE = set(' \\t\\n\\r')\n",
    "_NUMERAL_STARTS = set(string.digits) | set('+-.')\n",
    "_SINGLE_CHAR_TOKENS = set(\"()\")\n",
    "_TOKEN_END = _WHITESPACE | _SINGLE_CHAR_TOKENS\n",
    "_SYMBOL_STARTS = set('%*/+-^') \n",
    "_SYMBOL_INNERS = set(string.digits) | set('+-.')\n",
    "\n",
    "def next_token(expression, pos):\n",
    "    while pos < len(expression):\n",
    "        c = expression[pos]\n",
    "        if c in _WHITESPACE:\n",
    "            pos += 1\n",
    "        elif c in _SINGLE_CHAR_TOKENS:\n",
    "            #print(\">c\",c)\n",
    "            return c, (pos + 1)\n",
    "        else:#a numerical expression or operator\n",
    "            j = pos\n",
    "            while j < len(expression) and expression[j] not in _TOKEN_END:\n",
    "                j += 1\n",
    "            #print('c>',expression[pos:j])\n",
    "            return expression[pos:j], min(j, len(expression))\n",
    "    return None, len(expression)\n",
    "\n",
    "def valid_symbol(s):\n",
    "    if len(s) == 0 or s not in _SYMBOL_STARTS:\n",
    "        return False\n",
    "    return True\n",
    "\n",
    "def lex(expression):\n",
    "    \"\"\"\n",
    "    An expression parser\n",
    "    \n",
    "    >>> lex('(+ 1 (* 23 3))')\n",
    "    ['(', '+', 1, '(', '*', 23, 3, ')', ')']\n",
    "    >>> lex('(+ 1 (* 23 -3))')\n",
    "    ['(', '+', 1, '(', '*', 23, -3, ')', ')']\n",
    "    >>> lex('(+ 1 (* 23 -3e03))')\n",
    "    ['(', '+', 1, '(', '*', 23, -3000.0, ')', ')']\n",
    "    >>> lex('(+ (* 2 3) (* 23 3))')\n",
    "    ['(', '+', '(', '*', 2, 3, ')', '(', '*', 23, 3, ')', ')']\n",
    "    \"\"\"\n",
    "    elen = len(expression)\n",
    "    tokens=[]\n",
    "    text, i = next_token(expression, 0)\n",
    "    while text is not None:\n",
    "        #print(text, expression)\n",
    "        if text in _SINGLE_CHAR_TOKENS:\n",
    "            tokens.append(text)\n",
    "        elif text[0] in _SYMBOL_STARTS and valid_symbol(text):\n",
    "            tokens.append(text)\n",
    "        elif text[0] in _NUMERAL_STARTS:\n",
    "            try:\n",
    "                tokens.append(int(text))\n",
    "            except ValueError:\n",
    "                try:\n",
    "                    tokens.append(float(text))\n",
    "                except ValueError:\n",
    "                    raise ValueError(\"invalid numeral: {0}\".format(text))\n",
    "        \n",
    "        text, i = next_token(expression, i)\n",
    "    return tokens"
   ]
  },
  {
   "cell_type": "code",
   "execution_count": null,
   "metadata": {
    "collapsed": false
   },
   "outputs": [],
   "source": [
    "lex('(+ (* 2 3) (* 23 3))')"
   ]
  },
  {
   "cell_type": "code",
   "execution_count": null,
   "metadata": {
    "collapsed": false
   },
   "outputs": [],
   "source": [
    "from doctest import run_docstring_examples as dtest\n",
    "dtest(lex, globals(), verbose=True)"
   ]
  },
  {
   "cell_type": "markdown",
   "metadata": {},
   "source": [
    "### Syntactic Analysis \n",
    "\n",
    "...to get the tree.."
   ]
  },
  {
   "cell_type": "code",
   "execution_count": null,
   "metadata": {
    "collapsed": false
   },
   "outputs": [],
   "source": [
    "def syn(tokens):\n",
    "    currentTree = None\n",
    "    stack = []\n",
    "    for i, c in enumerate(tokens):\n",
    "        if c == '(':\n",
    "            if currentTree is not None:\n",
    "                if currentTree.left is None:\n",
    "                    ntree = currentTree.addLeftChild(tokens[i+1])\n",
    "                else:\n",
    "                    ntree = currentTree.addRightChild(tokens[i+1])\n",
    "            else:\n",
    "                ntree = BinaryTree(tokens[i+1])\n",
    "            stack.append(ntree)\n",
    "            currentTree = ntree\n",
    "        elif c in _SYMBOL_STARTS:\n",
    "            assert currentTree.value == c, \"op should follow (\"\n",
    "        elif c not in _SYMBOL_STARTS | _SINGLE_CHAR_TOKENS: #number\n",
    "            if currentTree.left is None:\n",
    "                leaf = currentTree.addLeftChild(c)\n",
    "            else:\n",
    "                leaf = currentTree.addRightChild(c)\n",
    "        elif c==')':\n",
    "            if len(stack) > 1:\n",
    "                stack.pop()\n",
    "            currentTree=stack[-1]\n",
    "    stack.pop()\n",
    "    return currentTree"
   ]
  },
  {
   "cell_type": "code",
   "execution_count": null,
   "metadata": {
    "collapsed": false
   },
   "outputs": [],
   "source": [
    "t = syn(lex('(+ (* 2 3) (* 23 3))'))"
   ]
  },
  {
   "cell_type": "code",
   "execution_count": null,
   "metadata": {
    "collapsed": false
   },
   "outputs": [],
   "source": [
    "t.value, t.left.value, t.right.value"
   ]
  },
  {
   "cell_type": "code",
   "execution_count": null,
   "metadata": {
    "collapsed": false
   },
   "outputs": [],
   "source": [
    "syn(lex('(+ 1 (* 23 3))'))"
   ]
  },
  {
   "cell_type": "code",
   "execution_count": null,
   "metadata": {
    "collapsed": false
   },
   "outputs": [],
   "source": [
    "syn(lex('(+ (* 2 3) (* 23 3))'))"
   ]
  },
  {
   "cell_type": "code",
   "execution_count": null,
   "metadata": {
    "collapsed": false
   },
   "outputs": [],
   "source": [
    "plotbtree(syn(lex('(+ (* 2 3) (* 23 3))')), 'exptree')"
   ]
  },
  {
   "cell_type": "code",
   "execution_count": null,
   "metadata": {
    "collapsed": false
   },
   "outputs": [],
   "source": [
    "!cat exptree.dot"
   ]
  },
  {
   "cell_type": "code",
   "execution_count": null,
   "metadata": {
    "collapsed": false
   },
   "outputs": [],
   "source": [
    "Image('exptree.png')"
   ]
  },
  {
   "cell_type": "markdown",
   "metadata": {},
   "source": [
    "### Tree traversal\n",
    "\n",
    "We need to decide how we plan to tracerse the tree. There are 3 choices, based on **an implicit ordering** of the tree from left to right\n",
    "\n",
    "- In-order: visit left-subtree, then current node, then right sub tree\n",
    "- Post-order: do child nodes first, and then current node\n",
    "- Pre-order: do current node, then children\n",
    "\n",
    "By visit ot do i mean the execution of some operation. For example, consider the filesystem tree. Order does not matter there, but say removing files in a directory before remoc=ving a directory makes sense: this is post-order. similarly to find size of a folder.\n",
    "\n",
    "Pre-order is rarely used (although we did use it to write a pre-order iterator for the binary tree just now to output stuff in the dot language)."
   ]
  },
  {
   "cell_type": "code",
   "execution_count": null,
   "metadata": {
    "collapsed": true
   },
   "outputs": [],
   "source": [
    "def preorder_traverse(tree, func):\n",
    "    if tree:\n",
    "        func(tree.value)\n",
    "        preorder_traverse(tree.left, func)\n",
    "        preorder_traverse(tree.right, func)\n",
    "def inorder_traverse(tree, func):\n",
    "    if tree:\n",
    "        inorder_traverse(tree.left, func)\n",
    "        func(tree.value)\n",
    "        inorder_traverse(tree.right, func)\n",
    "def postorder_traverse(tree, func):\n",
    "    if tree:\n",
    "        r1=postorder_traverse(tree.left, func)\n",
    "        r2=postorder_traverse(tree.right, func)\n",
    "        return func(tree.value, r1, r2)"
   ]
  },
  {
   "cell_type": "markdown",
   "metadata": {},
   "source": [
    "Ok, so lets support some simple ops...by delegating our \"languages\" ops to python :-)"
   ]
  },
  {
   "cell_type": "code",
   "execution_count": null,
   "metadata": {
    "collapsed": false
   },
   "outputs": [],
   "source": [
    "from operator import add, sub, mul, pow, mod, truediv\n",
    "OPDICT={\n",
    "    '+': add,\n",
    "    '-': sub,\n",
    "    '*': mul,\n",
    "    '/': truediv,\n",
    "    '%': mod,\n",
    "    '^': pow\n",
    "}\n",
    "def eval_exp(v, x, y):\n",
    "    if x is not None and y is not None:\n",
    "        return OPDICT[v](x,y)\n",
    "    else:\n",
    "        return v"
   ]
  },
  {
   "cell_type": "code",
   "execution_count": null,
   "metadata": {
    "collapsed": false
   },
   "outputs": [],
   "source": [
    "postorder_traverse(syn(lex('(+ 1 (* 23 3))')), eval_exp)"
   ]
  },
  {
   "cell_type": "code",
   "execution_count": null,
   "metadata": {
    "collapsed": false
   },
   "outputs": [],
   "source": [
    "postorder_traverse(syn(lex('(+ 1 (* 23 (/ 1 .3)))')), eval_exp)"
   ]
  },
  {
   "cell_type": "code",
   "execution_count": null,
   "metadata": {
    "collapsed": false
   },
   "outputs": [],
   "source": [
    "postorder_traverse(syn(lex('(+ (* 2 3) (* 23 3))')), eval_exp)"
   ]
  },
  {
   "cell_type": "code",
   "execution_count": null,
   "metadata": {
    "collapsed": true
   },
   "outputs": [],
   "source": []
  }
 ],
 "metadata": {
  "anaconda-cloud": {},
  "kernelspec": {
   "display_name": "Python [py35]",
   "language": "python",
   "name": "Python [py35]"
  },
  "language_info": {
   "codemirror_mode": {
    "name": "ipython",
    "version": 3
   },
   "file_extension": ".py",
   "mimetype": "text/x-python",
   "name": "python",
   "nbconvert_exporter": "python",
   "pygments_lexer": "ipython3",
   "version": "3.5.2"
  }
 },
 "nbformat": 4,
 "nbformat_minor": 0
}
