{
 "cells": [
  {
   "cell_type": "markdown",
   "metadata": {},
   "source": [
    "# Python"
   ]
  },
  {
   "cell_type": "markdown",
   "metadata": {},
   "source": [
    "## Installation\n",
    "\n",
    "Download Anaconda from here:\n",
    "\n",
    "https://www.continuum.io/downloads\n",
    "\n",
    "There are two ways to do this. You could choose to install either the 3.5 version or the 2.7 version.\n",
    "\n",
    "If you chose to install the 3.5 version you are done.\n",
    "\n",
    "### The 2.7 version\n",
    "\n",
    "If you chose to install the 2.7 version you have some work to do.\n",
    "\n",
    "Create a conda environment for python 3.5 with anaconda: \n",
    "\n",
    "`conda create -n py35 python=3.5 anaconda`\n",
    "\n",
    "Update it\n",
    "\n",
    "`conda update -n py35 anaconda`\n",
    "\n",
    "If you now want to run your shiny new python 3.5 environment, you should \"activate it\"\n",
    "\n",
    "`source activate py35`\n",
    "\n",
    "or, if you have anaconda on a non-standard place and not in your path like i do\n",
    "\n",
    "`source /anaconda/envs/py35/bin/activate py35`\n",
    "\n",
    "You ought to read more about the `conda` command. See http://conda.pydata.org/docs/_downloads/conda-cheatsheet.pdf (critical) and https://jakevdp.github.io/blog/2016/08/25/conda-myths-and-misconceptions/ (to understand the difference between conda and pip and why python has both (we'll use both in this course)."
   ]
  },
  {
   "cell_type": "markdown",
   "metadata": {},
   "source": [
    "## Syntax and stuff\n",
    "\n",
    "This is a very quick run-through of some python syntax\n",
    "\n",
    "You'll probably need the below for almost any class here, so might as well get it right for ours.\n",
    "\n",
    "To run the notebook below, you can either click on notebook in Anaconda graphical UI, or better still type\n",
    "\n",
    "`jupyter notebook .`\n",
    "\n",
    "at a command line prompt, once you are in the folder you want to put your notebooks in (`cd cs207` for example). If you installed Anaconda at an unusual place, or didnt let the installer add the install to your path, you may have to type something like\n",
    "\n",
    "`/anaconda/bin/jupyter notebook .`\n",
    "\n",
    "Then run each cell in this notebook using the icon-menu or pressing `shift-enter` on the keyboard."
   ]
  },
  {
   "cell_type": "code",
   "execution_count": 60,
   "metadata": {
    "collapsed": false
   },
   "outputs": [],
   "source": [
    "# The %... is an iPython thing, and is not part of the Python language.\n",
    "# In this case we're just telling the plotting library to draw things on\n",
    "# the notebook, instead of on a separate window.\n",
    "%matplotlib inline \n",
    "#this line above prepares IPython notebook for working with matplotlib\n",
    "\n",
    "# See all the \"as ...\" contructs? They're just aliasing the package names.\n",
    "# That way we can call methods like plt.plot() instead of matplotlib.pyplot.plot().\n",
    "\n",
    "import numpy as np # imports a fast numerical programming library\n",
    "import scipy as sp #imports stats functions, amongst other things\n",
    "import matplotlib as mpl # this actually imports matplotlib\n",
    "import matplotlib.cm as cm #allows us easy access to colormaps\n",
    "import matplotlib.pyplot as plt #sets up plotting under plt\n",
    "import pandas as pd #lets us handle data as dataframes\n",
    "#sets up pandas table display\n",
    "pd.set_option('display.width', 500)\n",
    "pd.set_option('display.max_columns', 100)\n",
    "pd.set_option('display.notebook_repr_html', True)\n",
    "#import seaborn as sns #sets up styles and gives us more plotting options"
   ]
  },
  {
   "cell_type": "markdown",
   "metadata": {},
   "source": [
    "## The Python Language\n",
    "\n",
    "Lets talk about using Python as a calculator..."
   ]
  },
  {
   "cell_type": "code",
   "execution_count": 61,
   "metadata": {
    "collapsed": false
   },
   "outputs": [
    {
     "data": {
      "text/plain": [
       "3"
      ]
     },
     "execution_count": 61,
     "metadata": {},
     "output_type": "execute_result"
    }
   ],
   "source": [
    "1+2"
   ]
  },
  {
   "cell_type": "markdown",
   "metadata": {},
   "source": [
    "Notice integer division and floating-point error below!"
   ]
  },
  {
   "cell_type": "code",
   "execution_count": 62,
   "metadata": {
    "collapsed": false
   },
   "outputs": [
    {
     "data": {
      "text/plain": [
       "(0.5, 0, 0.5, 9.600000000000001)"
      ]
     },
     "execution_count": 62,
     "metadata": {},
     "output_type": "execute_result"
    }
   ],
   "source": [
    "1/2,1//2,1.0/2.0,3*3.2"
   ]
  },
  {
   "cell_type": "markdown",
   "metadata": {},
   "source": [
    "Here is how we can print things. Something on the last line by itself is returned as the output value."
   ]
  },
  {
   "cell_type": "code",
   "execution_count": 63,
   "metadata": {
    "collapsed": false
   },
   "outputs": [
    {
     "name": "stdout",
     "output_type": "stream",
     "text": [
      "4.0 \n",
      " 1.6666666666666667\n"
     ]
    },
    {
     "data": {
      "text/plain": [
       "1.6666666666666667"
      ]
     },
     "execution_count": 63,
     "metadata": {},
     "output_type": "execute_result"
    }
   ],
   "source": [
    "print(1+3.0,\"\\n\",5/3.0)\n",
    "5/3"
   ]
  },
  {
   "cell_type": "markdown",
   "metadata": {},
   "source": [
    "We can obtain the type of a variable, and use boolean comparisons tontest these types."
   ]
  },
  {
   "cell_type": "code",
   "execution_count": 64,
   "metadata": {
    "collapsed": false
   },
   "outputs": [
    {
     "name": "stdout",
     "output_type": "stream",
     "text": [
      "0.8333333333333334\n",
      "<class 'float'>\n"
     ]
    }
   ],
   "source": [
    "a=5.0/6.0\n",
    "print(a)\n",
    "print(type(a))"
   ]
  },
  {
   "cell_type": "code",
   "execution_count": 65,
   "metadata": {
    "collapsed": false
   },
   "outputs": [
    {
     "data": {
      "text/plain": [
       "True"
      ]
     },
     "execution_count": 65,
     "metadata": {},
     "output_type": "execute_result"
    }
   ],
   "source": [
    "import types\n",
    "type(a)==float"
   ]
  },
  {
   "cell_type": "code",
   "execution_count": 66,
   "metadata": {
    "collapsed": false
   },
   "outputs": [
    {
     "name": "stdout",
     "output_type": "stream",
     "text": [
      "range(0, 9)\n",
      "<class 'range'>\n"
     ]
    }
   ],
   "source": [
    "temp = type(a)==int, type(5)==int\n",
    "type(temp)\n",
    "abc = range(9)\n",
    "print(abc)\n",
    "print (type(abc[1:]))\n",
    "    "
   ]
  },
  {
   "cell_type": "markdown",
   "metadata": {},
   "source": [
    "## Python and Iteration (and files)\n",
    "\n",
    "In working with python I always remember: a python is a duck.\n",
    "\n",
    "What I mean is, python has a certain way of doing things. For example lets call one of these ways listiness. Listiness works on lists, dictionaries, files, and a general notion of something called an iterator.\n",
    "\n",
    "But first, lets introduce the notion of a comprehension. Its a way of constructing a list"
   ]
  },
  {
   "cell_type": "code",
   "execution_count": 67,
   "metadata": {
    "collapsed": false
   },
   "outputs": [
    {
     "data": {
      "text/plain": [
       "[1, 4, 9, 16, 25]"
      ]
     },
     "execution_count": 67,
     "metadata": {},
     "output_type": "execute_result"
    }
   ],
   "source": [
    "alist=[1,2,3,4,5]\n",
    "asquaredlist=[i*i for i in alist]\n",
    "asquaredlist"
   ]
  },
  {
   "cell_type": "markdown",
   "metadata": {},
   "source": [
    "Python has some nifty functions like `enumerate` and `zip`. The former gives a **representation of** a list of tuples with each tuple of the form `(index, value)`, while the latter takes elements from each list and puts them together into a **representation of** a list of tuples. "
   ]
  },
  {
   "cell_type": "code",
   "execution_count": 68,
   "metadata": {
    "collapsed": false
   },
   "outputs": [
    {
     "data": {
      "text/plain": [
       "(<enumerate at 0x112978d80>, <zip at 0x112993888>)"
      ]
     },
     "execution_count": 68,
     "metadata": {},
     "output_type": "execute_result"
    }
   ],
   "source": [
    "enumerate(asquaredlist),zip(alist, asquaredlist)"
   ]
  },
  {
   "cell_type": "markdown",
   "metadata": {},
   "source": [
    "To get a list, you must **materialize** these representations..."
   ]
  },
  {
   "cell_type": "code",
   "execution_count": 69,
   "metadata": {
    "collapsed": false
   },
   "outputs": [
    {
     "data": {
      "text/plain": [
       "[(1, 1), (2, 4), (3, 9), (4, 16), (5, 25)]"
      ]
     },
     "execution_count": 69,
     "metadata": {},
     "output_type": "execute_result"
    }
   ],
   "source": [
    "list(zip(alist, asquaredlist))"
   ]
  },
  {
   "cell_type": "code",
   "execution_count": 70,
   "metadata": {
    "collapsed": false
   },
   "outputs": [
    {
     "data": {
      "text/plain": [
       "[(0, 1), (1, 4), (2, 9), (3, 16), (4, 25)]"
      ]
     },
     "execution_count": 70,
     "metadata": {},
     "output_type": "execute_result"
    }
   ],
   "source": [
    "[k for k in enumerate(asquaredlist)]"
   ]
  },
  {
   "cell_type": "markdown",
   "metadata": {},
   "source": [
    "Open files behave like lists too! Here we get each line in the file and find its length, using the comprehension syntax to put these lengths into a big list."
   ]
  },
  {
   "cell_type": "code",
   "execution_count": 71,
   "metadata": {
    "collapsed": false
   },
   "outputs": [],
   "source": [
    "linelengths=[len(line) for line in open(\"hamlet.txt\")]#poor code as we dont close the file"
   ]
  },
  {
   "cell_type": "code",
   "execution_count": 72,
   "metadata": {
    "collapsed": false
   },
   "outputs": [
    {
     "name": "stdout",
     "output_type": "stream",
     "text": [
      "<class 'list'>\n",
      "<class 'tuple'>\n"
     ]
    }
   ],
   "source": [
    "print (type(linelengths))\n",
    "b = sum(linelengths), np.mean(linelengths), np.median(linelengths), np.std(linelengths)\n",
    "\n",
    "print (type(b))"
   ]
  },
  {
   "cell_type": "markdown",
   "metadata": {},
   "source": [
    "But perhaps we want to access Hamlet word by word and not line by line"
   ]
  },
  {
   "cell_type": "code",
   "execution_count": 73,
   "metadata": {
    "collapsed": false
   },
   "outputs": [
    {
     "data": {
      "text/plain": [
       "31659"
      ]
     },
     "execution_count": 73,
     "metadata": {},
     "output_type": "execute_result"
    }
   ],
   "source": [
    "hamletfile=open(\"hamlet.txt\")\n",
    "hamlettext=hamletfile.read()\n",
    "hamletfile.close()\n",
    "hamlettokens=hamlettext.split()#split with no arguments splits on whitespace\n",
    "len(hamlettokens)"
   ]
  },
  {
   "cell_type": "markdown",
   "metadata": {},
   "source": [
    "One can use the `with` syntax which cretaes a context. The file closing is then done automatically for us."
   ]
  },
  {
   "cell_type": "code",
   "execution_count": 74,
   "metadata": {
    "collapsed": false
   },
   "outputs": [
    {
     "name": "stdout",
     "output_type": "stream",
     "text": [
      "31659\n"
     ]
    }
   ],
   "source": [
    "with open(\"hamlet.txt\") as hamletfile:\n",
    "    hamlettext=hamletfile.read()\n",
    "    hamlettokens=hamlettext.split()\n",
    "    print(len(hamlettokens))"
   ]
  },
  {
   "cell_type": "markdown",
   "metadata": {},
   "source": [
    "There are roughly 32,000 words in Hamlet."
   ]
  },
  {
   "cell_type": "markdown",
   "metadata": {},
   "source": [
    "### The indexing of lists"
   ]
  },
  {
   "cell_type": "code",
   "execution_count": 75,
   "metadata": {
    "collapsed": false
   },
   "outputs": [
    {
     "name": "stdout",
     "output_type": "stream",
     "text": [
      "﻿XXXX\n",
      "HAMLET, PRINCE OF DENMARK\n",
      "\n",
      "by William Shakespeare\n",
      "\n",
      "\n",
      "\n",
      "\n",
      "PERSONS REPRESENTED.\n",
      "\n",
      "Claudius, King of Denmark.\n",
      "Hamlet, Son to the former, and Nephew to the present King.\n",
      "Polonius, Lord Chamberlain.\n",
      "Horatio, Friend to Hamlet.\n",
      "Laertes, Son to Polonius.\n",
      "Voltimand, Courtier.\n",
      "Cornelius, Courtier.\n",
      "Rosencrantz, Courtier.\n",
      "Guildenstern, Courtier.\n",
      "Osric, Courtier.\n",
      "A Gentleman, Courtier.\n",
      "A Priest.\n",
      "Marcellus, Officer.\n",
      "Bernardo, Officer.\n",
      "Francisco, a Soldier\n",
      "Reynaldo, Servant to Polonius.\n",
      "Players.\n",
      "Two Clowns, Grave-diggers.\n",
      "Fortinbras, Prince of Norway.\n",
      "A Captain.\n",
      "English Ambassadors.\n",
      "Ghost of Hamlet's Father.\n",
      "\n",
      "Gertrude, Queen of Denmark, and Mother of Hamlet.\n",
      "Ophelia, Daughter to Polonius.\n",
      "\n",
      "Lords, Ladies, Officers, Soldiers, Sailors, Messengers, and other\n",
      "Attendants.\n",
      "\n",
      "SCENE. Elsinore.\n",
      "\n",
      "\n",
      "\n",
      "ACT I.\n",
      "\n",
      "Scene I. Elsinore. A platform before the Castle.\n",
      "\n",
      "[Francisco at his post. Enter to him Bernardo.]\n",
      "\n",
      "Ber.\n",
      "Who's there?\n",
      "\n",
      "Fran.\n",
      "Nay, answer me: stand, and unfold yourself.\n",
      "\n",
      "Ber.\n",
      "Long live the king!\n",
      "\n",
      "Fran.\n",
      "Bernar\n"
     ]
    }
   ],
   "source": [
    "print(hamlettext[:1000])#first 1000 characters from Hamlet."
   ]
  },
  {
   "cell_type": "code",
   "execution_count": 76,
   "metadata": {
    "collapsed": false
   },
   "outputs": [
    {
     "name": "stdout",
     "output_type": "stream",
     "text": [
      "on by cunning and forc'd cause;\n",
      "And, in this upshot, purposes mistook\n",
      "Fall'n on the inventors' heads: all this can I\n",
      "Truly deliver.\n",
      "\n",
      "Fort.\n",
      "Let us haste to hear it,\n",
      "And call the noblest to the audience.\n",
      "For me, with sorrow I embrace my fortune:\n",
      "I have some rights of memory in this kingdom,\n",
      "Which now, to claim my vantage doth invite me.\n",
      "\n",
      "Hor.\n",
      "Of that I shall have also cause to speak,\n",
      "And from his mouth whose voice will draw on more:\n",
      "But let this same be presently perform'd,\n",
      "Even while men's minds are wild: lest more mischance\n",
      "On plots and errors happen.\n",
      "\n",
      "Fort.\n",
      "Let four captains\n",
      "Bear Hamlet like a soldier to the stage;\n",
      "For he was likely, had he been put on,\n",
      "To have prov'd most royally: and, for his passage,\n",
      "The soldiers' music and the rites of war\n",
      "Speak loudly for him.--\n",
      "Take up the bodies.--Such a sight as this\n",
      "Becomes the field, but here shows much amiss.\n",
      "Go, bid the soldiers shoot.\n",
      "\n",
      "[A dead march.]\n",
      "\n",
      "[Exeunt, bearing off the dead bodies; after the which a peal of\n",
      "ordnance is shot off.]\n",
      "\n"
     ]
    }
   ],
   "source": [
    "print(hamlettext[-1000:])#and last 1000 characters from Hamlet."
   ]
  },
  {
   "cell_type": "markdown",
   "metadata": {},
   "source": [
    "Lets split the word tokens. The first one below reads, give me the second, third, and fourth words (remember that python is 0 indexed). Try and figure what the others mean."
   ]
  },
  {
   "cell_type": "code",
   "execution_count": 77,
   "metadata": {
    "collapsed": false
   },
   "outputs": [
    {
     "name": "stdout",
     "output_type": "stream",
     "text": [
      "['HAMLET,', 'PRINCE', 'OF'] ['\\ufeffXXXX', 'HAMLET,', 'PRINCE', 'OF'] ﻿XXXX off.]\n"
     ]
    }
   ],
   "source": [
    "print(hamlettokens[1:4], hamlettokens[:4], hamlettokens[0], hamlettokens[-1])"
   ]
  },
  {
   "cell_type": "code",
   "execution_count": 78,
   "metadata": {
    "collapsed": false
   },
   "outputs": [
    {
     "data": {
      "text/plain": [
       "['HAMLET,', 'OF', 'by', 'Shakespeare']"
      ]
     },
     "execution_count": 78,
     "metadata": {},
     "output_type": "execute_result"
    }
   ],
   "source": [
    "hamlettokens[1:8:2]#get every 2nd world between the 2nd and the 9th: ie 2nd, 4th, 6th, and 8th"
   ]
  },
  {
   "cell_type": "markdown",
   "metadata": {},
   "source": [
    "range behaves like an iterator, which is the word for something that represents a list (we'll formalize this later). The reason for this is that there is no point generating all of a million integers. We can just add 1 to the previous one and save memory. So we trade off storage for computation."
   ]
  },
  {
   "cell_type": "code",
   "execution_count": 79,
   "metadata": {
    "collapsed": false
   },
   "outputs": [
    {
     "data": {
      "text/plain": [
       "range(0, 100000)"
      ]
     },
     "execution_count": 79,
     "metadata": {},
     "output_type": "execute_result"
    }
   ],
   "source": [
    "range(100000)"
   ]
  },
  {
   "cell_type": "code",
   "execution_count": 80,
   "metadata": {
    "collapsed": false
   },
   "outputs": [
    {
     "data": {
      "text/plain": [
       "[1, 2, 3, 4, 5, 6, 7, 8, 9]"
      ]
     },
     "execution_count": 80,
     "metadata": {},
     "output_type": "execute_result"
    }
   ],
   "source": [
    "mylist=[]\n",
    "for i in range(10):\n",
    "    mylist.append(i)\n",
    "mylist[1:]"
   ]
  },
  {
   "cell_type": "markdown",
   "metadata": {},
   "source": [
    "## Dictionaries\n",
    "\n",
    "These are the bread and butter. You will use them a lot. They even duck like lists. But be careful how."
   ]
  },
  {
   "cell_type": "code",
   "execution_count": 81,
   "metadata": {
    "collapsed": false
   },
   "outputs": [
    {
     "name": "stdout",
     "output_type": "stream",
     "text": [
      "['one', 'three', 'two'] [('one', 1), ('three', 3), ('two', 2)] dict_values([1, 3, 2])\n"
     ]
    }
   ],
   "source": [
    "adict={'one':1, 'two': 2, 'three': 3}\n",
    "print([i for i in adict], [(k,v) for k,v in adict.items()], adict.values())"
   ]
  },
  {
   "cell_type": "markdown",
   "metadata": {},
   "source": [
    "The keys do not have to be strings. From python 2.7 you can use dictionary comprehensions as well"
   ]
  },
  {
   "cell_type": "code",
   "execution_count": 82,
   "metadata": {
    "collapsed": false
   },
   "outputs": [
    {
     "name": "stdout",
     "output_type": "stream",
     "text": [
      "[(1, 1), (2, 4), (3, 9), (4, 16), (5, 25)]\n",
      "{1: 1, 2: 4, 3: 9, 4: 16, 5: 25}\n",
      "[1, 8, 27, 64, 125, 216, 343, 512, 729]\n",
      "{1: 1, 2: 8, 3: 27, 4: 64, 5: 125, 6: 216, 7: 343, 8: 512, 9: 729}\n"
     ]
    }
   ],
   "source": [
    "mydict ={k:v for (k,v) in zip(alist, asquaredlist)}\n",
    "print (list(zip(alist, asquaredlist)))\n",
    "print (mydict)\n",
    "\n",
    "chronoList = []\n",
    "for i in range(10):\n",
    "    chronoList.append(i)\n",
    "chronoList = chronoList[1:]\n",
    "chronoList\n",
    "\n",
    "acubelist = [i**3 for i in chronoList]\n",
    "\n",
    "print (acubelist)\n",
    "cubeDict = {k:v for (k,v) in zip(chronoList, acubelist)}\n",
    "print (cubeDict)"
   ]
  },
  {
   "cell_type": "markdown",
   "metadata": {},
   "source": [
    "You can construct then nicely using the function `dict`."
   ]
  },
  {
   "cell_type": "code",
   "execution_count": 83,
   "metadata": {
    "collapsed": false
   },
   "outputs": [
    {
     "data": {
      "text/plain": [
       "{'a': 1, 'b': 2}"
      ]
     },
     "execution_count": 83,
     "metadata": {},
     "output_type": "execute_result"
    }
   ],
   "source": [
    "dict(a=1, b=2)"
   ]
  },
  {
   "cell_type": "markdown",
   "metadata": {},
   "source": [
    "### and conversion to json"
   ]
  },
  {
   "cell_type": "code",
   "execution_count": 84,
   "metadata": {
    "collapsed": false
   },
   "outputs": [],
   "source": [
    "import json"
   ]
  },
  {
   "cell_type": "code",
   "execution_count": 85,
   "metadata": {
    "collapsed": false
   },
   "outputs": [
    {
     "name": "stdout",
     "output_type": "stream",
     "text": [
      "{\"1\": 1, \"2\": 4, \"3\": 9, \"4\": 16, \"5\": 25}\n"
     ]
    }
   ],
   "source": [
    "s=json.dumps(mydict)\n",
    "print(s)"
   ]
  },
  {
   "cell_type": "code",
   "execution_count": 86,
   "metadata": {
    "collapsed": false
   },
   "outputs": [
    {
     "data": {
      "text/plain": [
       "{'1': 1, '2': 4, '3': 9, '4': 16, '5': 25}"
      ]
     },
     "execution_count": 86,
     "metadata": {},
     "output_type": "execute_result"
    }
   ],
   "source": [
    "json.loads(s)"
   ]
  },
  {
   "cell_type": "markdown",
   "metadata": {},
   "source": [
    "## Strings\n",
    "\n",
    "Basically they behave like immutable lists"
   ]
  },
  {
   "cell_type": "code",
   "execution_count": 87,
   "metadata": {
    "collapsed": false
   },
   "outputs": [
    {
     "name": "stdout",
     "output_type": "stream",
     "text": [
      "off.]\n"
     ]
    }
   ],
   "source": [
    "lastword=hamlettokens[-1]\n",
    "print(lastword)"
   ]
  },
  {
   "cell_type": "code",
   "execution_count": 88,
   "metadata": {
    "collapsed": false
   },
   "outputs": [
    {
     "ename": "TypeError",
     "evalue": "'str' object does not support item assignment",
     "output_type": "error",
     "traceback": [
      "\u001b[0;31m---------------------------------------------------------------------------\u001b[0m",
      "\u001b[0;31mTypeError\u001b[0m                                 Traceback (most recent call last)",
      "\u001b[0;32m<ipython-input-88-7d666f1ef024>\u001b[0m in \u001b[0;36m<module>\u001b[0;34m()\u001b[0m\n\u001b[0;32m----> 1\u001b[0;31m \u001b[0mlastword\u001b[0m\u001b[0;34m[\u001b[0m\u001b[0;34m-\u001b[0m\u001b[0;36m2\u001b[0m\u001b[0;34m]\u001b[0m\u001b[0;34m=\u001b[0m\u001b[0;34m\"k\"\u001b[0m\u001b[0;31m#cant change a part of a string\u001b[0m\u001b[0;34m\u001b[0m\u001b[0m\n\u001b[0m",
      "\u001b[0;31mTypeError\u001b[0m: 'str' object does not support item assignment"
     ]
    }
   ],
   "source": [
    "lastword[-2]=\"k\"#cant change a part of a string"
   ]
  },
  {
   "cell_type": "code",
   "execution_count": null,
   "metadata": {
    "collapsed": false
   },
   "outputs": [],
   "source": [
    "lastword[-2]"
   ]
  },
  {
   "cell_type": "markdown",
   "metadata": {
    "collapsed": true
   },
   "source": [
    "You can join a list with a separator to make a string."
   ]
  },
  {
   "cell_type": "code",
   "execution_count": null,
   "metadata": {
    "collapsed": false
   },
   "outputs": [],
   "source": [
    "wierdstring=\",\".join(hamlettokens)\n",
    "wierdstring[:1000]"
   ]
  },
  {
   "cell_type": "markdown",
   "metadata": {},
   "source": [
    "## Functions\n",
    "\n",
    "Functions are even more the bread and butter. You'll see them as methods on objects, or standing alone by themselves."
   ]
  },
  {
   "cell_type": "code",
   "execution_count": null,
   "metadata": {
    "collapsed": false
   },
   "outputs": [],
   "source": [
    "def square(x):\n",
    "    return(x*x)\n",
    "def cube(x):\n",
    "    return x*x*x\n",
    "square(5),cube(5)"
   ]
  },
  {
   "cell_type": "code",
   "execution_count": null,
   "metadata": {
    "collapsed": false
   },
   "outputs": [],
   "source": [
    "print(square, type(cube))"
   ]
  },
  {
   "cell_type": "markdown",
   "metadata": {},
   "source": [
    "In Python, functions are \"first-class\". This is just a fancy way of saying, you can pass functions to other functions"
   ]
  },
  {
   "cell_type": "code",
   "execution_count": null,
   "metadata": {
    "collapsed": false
   },
   "outputs": [],
   "source": [
    "def sum_of_anything(x,y,f):\n",
    "    print(x,y,f)\n",
    "    return(f(x) + f(y))\n",
    "sum_of_anything(3,4,square)"
   ]
  },
  {
   "cell_type": "markdown",
   "metadata": {},
   "source": [
    "Python functions can have positional arguments and keyword arguments. Positional arguments are stored in a tuple, and keyword arguments in a dictionary. Note the \"starred\" syntax"
   ]
  },
  {
   "cell_type": "code",
   "execution_count": null,
   "metadata": {
    "collapsed": false
   },
   "outputs": [],
   "source": [
    "def f(a,b,*posargs,**dictargs):\n",
    "    print(\"got\",a,b,posargs, dictargs)\n",
    "    return a\n",
    "print(f(1,3))\n",
    "print(f(1,3,4,d=1,c=2))"
   ]
  },
  {
   "cell_type": "markdown",
   "metadata": {},
   "source": [
    ">**YOUR TURN** create a dictionary with keys the integers upto and including 10, and values the cubes of these dictionaries"
   ]
  },
  {
   "cell_type": "code",
   "execution_count": null,
   "metadata": {
    "collapsed": false
   },
   "outputs": [],
   "source": [
    "#your code here\n",
    "chronoList = []\n",
    "for i in range(11):\n",
    "    chronoList.append(i)\n",
    "chronoList = chronoList[1:]\n",
    "chronoList\n",
    "\n",
    "# step 2 - create the cube list using comprehension\n",
    "acubelist = [i**3 for i in chronoList]\n",
    "\n",
    "# step 3 - create the dictionary\n",
    "cubeDict = {k:v for (k,v) in zip(chronoList, acubelist)}\n",
    "print (cubeDict)\n"
   ]
  },
  {
   "cell_type": "markdown",
   "metadata": {},
   "source": [
    "## Booleans and Control-flow\n",
    "\n",
    "Lets test for belonging..."
   ]
  },
  {
   "cell_type": "code",
   "execution_count": null,
   "metadata": {
    "collapsed": false
   },
   "outputs": [],
   "source": [
    "a=[1,2,3,4,5]\n",
    "1 in a"
   ]
  },
  {
   "cell_type": "code",
   "execution_count": null,
   "metadata": {
    "collapsed": false
   },
   "outputs": [],
   "source": [
    "6 in a"
   ]
  },
  {
   "cell_type": "markdown",
   "metadata": {},
   "source": [
    "Python supports if/elif/else clauses for multi-way conditionals"
   ]
  },
  {
   "cell_type": "code",
   "execution_count": null,
   "metadata": {
    "collapsed": false
   },
   "outputs": [],
   "source": [
    "def do_it(x):\n",
    "    if x==1:\n",
    "        print(\"One\")\n",
    "    elif x==2:\n",
    "        print(\"Two\")\n",
    "    else:\n",
    "        print(x)\n",
    "do_it(1)"
   ]
  },
  {
   "cell_type": "code",
   "execution_count": null,
   "metadata": {
    "collapsed": false
   },
   "outputs": [],
   "source": [
    "do_it(2), do_it(3)"
   ]
  },
  {
   "cell_type": "markdown",
   "metadata": {},
   "source": [
    "You can `break` out of a loop based on a condition. The loop below is a for loop."
   ]
  },
  {
   "cell_type": "code",
   "execution_count": null,
   "metadata": {
    "collapsed": false
   },
   "outputs": [],
   "source": [
    "for i in range(10):\n",
    "    print(i)\n",
    "    if (i > 5):\n",
    "        break"
   ]
  },
  {
   "cell_type": "markdown",
   "metadata": {},
   "source": [
    "While loops are also supported. `continue` continues to the next iteration of the loop skipping all the code below, while `break` breaks out of it."
   ]
  },
  {
   "cell_type": "code",
   "execution_count": null,
   "metadata": {
    "collapsed": false
   },
   "outputs": [],
   "source": [
    "i=0\n",
    "while i < 10:\n",
    "    print(i)\n",
    "    i=i+1\n",
    "    if i < 5:\n",
    "        continue\n",
    "    else:\n",
    "        break\n"
   ]
  },
  {
   "cell_type": "markdown",
   "metadata": {},
   "source": [
    "## Exceptions\n",
    "\n",
    "This is the way to catch errors."
   ]
  },
  {
   "cell_type": "code",
   "execution_count": null,
   "metadata": {
    "collapsed": false
   },
   "outputs": [],
   "source": [
    "try:\n",
    "    f(1)#takes atleast 2 arguments\n",
    "except:\n",
    "    import sys\n",
    "    print(sys.exc_info())"
   ]
  },
  {
   "cell_type": "markdown",
   "metadata": {},
   "source": [
    "## All together now\n",
    "\n",
    "Lets see what hamlet gives us. We convert all words to lower-case"
   ]
  },
  {
   "cell_type": "code",
   "execution_count": 90,
   "metadata": {
    "collapsed": false
   },
   "outputs": [
    {
     "data": {
      "text/plain": [
       "95"
      ]
     },
     "execution_count": 90,
     "metadata": {},
     "output_type": "execute_result"
    }
   ],
   "source": [
    "hamletlctokens=[word.lower() for word in hamlettokens]\n",
    "hamletlctokens.count(\"thou\")"
   ]
  },
  {
   "cell_type": "markdown",
   "metadata": {},
   "source": [
    "We then find a unique set of words using python's `set` data structure. We count how often those words occured usinf the `count` method on lists."
   ]
  },
  {
   "cell_type": "code",
   "execution_count": 93,
   "metadata": {
    "collapsed": false
   },
   "outputs": [],
   "source": [
    "uniquelctokens=set(hamletlctokens)\n"
   ]
  },
  {
   "cell_type": "code",
   "execution_count": 97,
   "metadata": {
    "collapsed": false
   },
   "outputs": [
    {
     "data": {
      "text/plain": [
       "{'form': 11,\n",
       " 'invites': 1,\n",
       " 'weapons:--but': 1,\n",
       " 'distress,': 1,\n",
       " 'cheer': 3,\n",
       " 'level': 2,\n",
       " \"prais'd\": 1,\n",
       " \"courtier's,\": 1,\n",
       " 'complexion,': 1,\n",
       " 'thou,--': 1,\n",
       " 'weakest': 1,\n",
       " 'feast.': 1,\n",
       " 'scene': 23,\n",
       " 'god': 15,\n",
       " 'siege.': 1,\n",
       " '[hamlet': 1,\n",
       " \"say'st\": 1,\n",
       " 'discourse': 4,\n",
       " 'easiness.': 1,\n",
       " \"beggars'\": 1,\n",
       " \"queen'?\": 1,\n",
       " 'capons': 1,\n",
       " 'land,': 3,\n",
       " 'wrinkled;': 1,\n",
       " 'too!--': 1,\n",
       " 'settled': 1,\n",
       " 'light': 6,\n",
       " 'bent.--i': 1,\n",
       " 'wanton,': 1,\n",
       " 'firm': 1,\n",
       " 'fellow:': 1,\n",
       " 'dream': 4,\n",
       " 'aright': 1,\n",
       " '1': 36,\n",
       " 'business.': 2,\n",
       " 'commission;': 2,\n",
       " 'back': 6,\n",
       " 'nunnery.': 1,\n",
       " 'innocent': 1,\n",
       " 'weak': 2,\n",
       " 'captain.': 1,\n",
       " 'dido,': 1,\n",
       " 'laertes]': 1,\n",
       " 'suffered': 1,\n",
       " 'beauty': 4,\n",
       " 'encounter:': 1,\n",
       " 'age': 7,\n",
       " 'flame': 2,\n",
       " 'roman': 2,\n",
       " \"return'd\": 2,\n",
       " 'ha!--come,': 1,\n",
       " 'affrighted!': 1,\n",
       " 'loose': 1,\n",
       " 'made': 26,\n",
       " 'pace': 1,\n",
       " 'stick': 2,\n",
       " 'nor': 37,\n",
       " 'knave.': 2,\n",
       " 'demand': 2,\n",
       " 'heel,': 1,\n",
       " 'portal!': 1,\n",
       " 'beckons': 2,\n",
       " 'morrow,': 1,\n",
       " 'blown': 1,\n",
       " 'prolongs': 1,\n",
       " 'mainly': 1,\n",
       " 'heed': 2,\n",
       " 'truly:': 1,\n",
       " 'grosser': 1,\n",
       " 'start': 4,\n",
       " 'pagan,': 1,\n",
       " 'leads': 1,\n",
       " 'knavery.': 1,\n",
       " 'assay:': 1,\n",
       " 'star,--': 1,\n",
       " \"unanel'd;\": 1,\n",
       " 'lord?': 27,\n",
       " 'rude': 2,\n",
       " 'mock': 4,\n",
       " 'burial': 1,\n",
       " \"t'other\": 1,\n",
       " 'thick': 2,\n",
       " 'affection': 1,\n",
       " 'with;': 1,\n",
       " 'bilboes.': 1,\n",
       " \"lov'd\": 4,\n",
       " 'guildenstern!': 3,\n",
       " \"devis'd\": 1,\n",
       " 'sheeted': 1,\n",
       " 'dane,': 2,\n",
       " 'weep': 1,\n",
       " 'meet': 4,\n",
       " 'them': 44,\n",
       " 'end': 10,\n",
       " 'revengeful,': 1,\n",
       " 'act:': 1,\n",
       " 'ways': 1,\n",
       " 'lose.': 1,\n",
       " 'show,': 2,\n",
       " 'charge': 4,\n",
       " 'ducats': 2,\n",
       " 'smote': 1,\n",
       " 'prison-house,': 1,\n",
       " 'nave': 1,\n",
       " 'stands': 2,\n",
       " 'thine;': 1,\n",
       " 'direct': 4,\n",
       " 'laertes': 6,\n",
       " 'drinks': 2,\n",
       " 'aside!--here': 1,\n",
       " 'murderer': 2,\n",
       " 'humanity': 1,\n",
       " 'heart:': 3,\n",
       " 'hasty': 1,\n",
       " 'air.': 2,\n",
       " 'douts': 1,\n",
       " 'excitements': 1,\n",
       " 'rapier': 2,\n",
       " 'tame': 1,\n",
       " 'deeds': 1,\n",
       " 'strength,': 1,\n",
       " 'grace': 9,\n",
       " 'down.': 3,\n",
       " 'capable': 1,\n",
       " 'milk,': 1,\n",
       " 'but': 228,\n",
       " 'method,': 1,\n",
       " 'shoulder.]': 1,\n",
       " 'change;': 1,\n",
       " \"play's\": 1,\n",
       " 'moult': 1,\n",
       " 'churchyard.': 1,\n",
       " 'matters?': 1,\n",
       " \"'and\": 1,\n",
       " 'thee,': 9,\n",
       " 'discourse?': 1,\n",
       " 'past.': 1,\n",
       " 'neither': 5,\n",
       " 'garland': 1,\n",
       " 'bodies;': 1,\n",
       " 'players.': 2,\n",
       " 'made.': 1,\n",
       " 'weigh': 2,\n",
       " 'patience!': 1,\n",
       " 'sliver': 1,\n",
       " 'unction': 2,\n",
       " '[beneath.]': 4,\n",
       " 'twentieth': 1,\n",
       " 'like,': 2,\n",
       " 'desert.': 1,\n",
       " 'that--': 1,\n",
       " \"dispatch'd:\": 1,\n",
       " 'hawk': 1,\n",
       " 'enough;': 1,\n",
       " 'against': 22,\n",
       " 'queen?': 1,\n",
       " 'wild,': 1,\n",
       " 'baptista:': 1,\n",
       " 'hand': 12,\n",
       " 'transports': 1,\n",
       " 'vacancy,': 1,\n",
       " 'miching': 1,\n",
       " 'yield': 2,\n",
       " 'haste': 10,\n",
       " 'hits': 1,\n",
       " 'own.': 1,\n",
       " 'chase.': 1,\n",
       " 'cried': 2,\n",
       " 'heard': 9,\n",
       " 'young': 16,\n",
       " 'moreover': 1,\n",
       " 'gods.': 1,\n",
       " 'hush': 1,\n",
       " \"consequence,'\": 1,\n",
       " 'card,': 1,\n",
       " 'still,': 4,\n",
       " 'loan': 1,\n",
       " 'fox,': 1,\n",
       " 'robustious': 1,\n",
       " 'goodness,': 1,\n",
       " 'you:--keep': 1,\n",
       " 'hamlet;': 4,\n",
       " 'reasons;': 1,\n",
       " 'wormwood,': 1,\n",
       " 'eale': 1,\n",
       " 'applaud': 1,\n",
       " 'snow,': 3,\n",
       " \"sexton's\": 1,\n",
       " 'deliberate': 1,\n",
       " 'pleasant': 1,\n",
       " 'life.': 4,\n",
       " 'bad': 5,\n",
       " 'lazar-like,': 1,\n",
       " 'distract:': 1,\n",
       " 'none;': 1,\n",
       " 'boarded': 1,\n",
       " \"oppos'd\": 1,\n",
       " 'yourselves': 1,\n",
       " 'treacherous,': 1,\n",
       " 'temple': 1,\n",
       " 'rest,': 2,\n",
       " 'weeping': 1,\n",
       " 'flatter;': 1,\n",
       " 'inform': 2,\n",
       " 'you,--': 2,\n",
       " 'newly': 1,\n",
       " 'incontinency;': 1,\n",
       " \"o'ermaster't\": 1,\n",
       " 'many': 17,\n",
       " 'extent': 1,\n",
       " 'christian,': 1,\n",
       " 'everything': 2,\n",
       " 'fair?': 1,\n",
       " 'declining': 1,\n",
       " 'select': 1,\n",
       " \"husband's\": 2,\n",
       " 'gentlemen!--': 1,\n",
       " 'unsatisfied.': 1,\n",
       " 'dead': 18,\n",
       " 'waste': 1,\n",
       " 'must:': 1,\n",
       " 'fate,': 1,\n",
       " 'low': 1,\n",
       " 'monument:': 1,\n",
       " 'purpose,': 3,\n",
       " 'vantage.': 1,\n",
       " 'youth,': 3,\n",
       " 'handsome': 1,\n",
       " 'capital': 2,\n",
       " 'reply.': 1,\n",
       " 'sleeping': 2,\n",
       " 'king;': 3,\n",
       " 'muddy': 1,\n",
       " 'italian;': 1,\n",
       " 'savageness': 1,\n",
       " 'me:--we': 1,\n",
       " 'angry': 1,\n",
       " 'say!': 1,\n",
       " 'judges,': 1,\n",
       " 'queen,': 15,\n",
       " 'render': 1,\n",
       " 'inward': 3,\n",
       " 'travel?': 1,\n",
       " \"on't?\": 3,\n",
       " 'adieu!': 2,\n",
       " 'fit,': 2,\n",
       " \"return'd.\": 1,\n",
       " 'marvel': 1,\n",
       " 'fashion;': 1,\n",
       " 'right!--': 1,\n",
       " \"barefac'd\": 1,\n",
       " 'on;': 3,\n",
       " 'knocking': 1,\n",
       " 'calf': 1,\n",
       " 'true:': 2,\n",
       " 'bed;': 3,\n",
       " 'head.]': 1,\n",
       " 'queen!': 1,\n",
       " 'thee.--something': 1,\n",
       " 'clepe': 1,\n",
       " 'air,': 5,\n",
       " \"plac'd\": 1,\n",
       " 'bisson': 1,\n",
       " \"unforc'd\": 1,\n",
       " 'admiration.': 1,\n",
       " 'destroy!': 1,\n",
       " 'cue': 1,\n",
       " 'hic': 1,\n",
       " 'lordship,': 1,\n",
       " 'thirty': 3,\n",
       " 'breath.--': 1,\n",
       " 'church;': 1,\n",
       " 'mart': 1,\n",
       " 'paintings': 1,\n",
       " 'me?--': 1,\n",
       " 'thine': 9,\n",
       " 'importunate;': 1,\n",
       " 'persevere': 1,\n",
       " 'shards,': 1,\n",
       " 'heaven!--': 1,\n",
       " 'bravery': 1,\n",
       " 'hope,': 2,\n",
       " 'youth:': 1,\n",
       " 'laugh': 4,\n",
       " 'meet.--': 1,\n",
       " 'paint': 1,\n",
       " 'men': 8,\n",
       " 'poison': 6,\n",
       " 'clamour': 1,\n",
       " 'speedy': 1,\n",
       " 'close;': 1,\n",
       " 'basket': 2,\n",
       " 'silence': 4,\n",
       " 'escoted?': 1,\n",
       " 'possible': 2,\n",
       " 'gentry': 1,\n",
       " 'flourish': 2,\n",
       " 'access': 1,\n",
       " 'calm': 2,\n",
       " 'ground,': 2,\n",
       " 'points': 1,\n",
       " 'stones,': 1,\n",
       " 'husband': 6,\n",
       " 'claim': 1,\n",
       " 'station': 2,\n",
       " 'players;': 1,\n",
       " 'joy,': 1,\n",
       " 'fantastically': 1,\n",
       " 'pound!': 1,\n",
       " 'ingenious': 1,\n",
       " \"match'd,\": 1,\n",
       " 'accident,': 1,\n",
       " 'thither.': 1,\n",
       " 'napkin,': 1,\n",
       " 'overdone': 1,\n",
       " 'follow:--your': 1,\n",
       " 'land.': 1,\n",
       " 'of': 667,\n",
       " 'sold': 1,\n",
       " 'fine': 6,\n",
       " \"'to\": 1,\n",
       " '2': 12,\n",
       " 'hail': 1,\n",
       " 'that:': 2,\n",
       " 'osric;': 1,\n",
       " 'coming': 5,\n",
       " 'dreamt': 1,\n",
       " 'fit': 8,\n",
       " 'profit': 2,\n",
       " 'waxes,': 1,\n",
       " 'inhibition': 1,\n",
       " 'fire.': 1,\n",
       " 'now!': 6,\n",
       " \"pray'st\": 1,\n",
       " 'city.': 1,\n",
       " 'foe': 1,\n",
       " 'part,': 5,\n",
       " 'dust?': 1,\n",
       " 'seat;': 1,\n",
       " 'passages': 1,\n",
       " 'thou!': 1,\n",
       " 'kind:': 1,\n",
       " 'vision': 1,\n",
       " 'lordship': 4,\n",
       " 'those': 21,\n",
       " 'belief': 1,\n",
       " 'down:--he': 1,\n",
       " 'houses': 1,\n",
       " 'own:': 1,\n",
       " 'majesty;': 1,\n",
       " 'foul,': 2,\n",
       " 'contagion': 1,\n",
       " 'gone;': 2,\n",
       " 'endeavour': 1,\n",
       " 'rags,': 1,\n",
       " 'influence': 1,\n",
       " \"law's\": 1,\n",
       " 'jangled,': 1,\n",
       " 'wed': 1,\n",
       " \"nature's\": 2,\n",
       " 'pray,': 1,\n",
       " 'goodness': 1,\n",
       " \"unsinew'd,\": 1,\n",
       " 'unmanly': 1,\n",
       " 'blood,--': 1,\n",
       " 'faithful': 2,\n",
       " 'cleft': 1,\n",
       " 'distrust,': 1,\n",
       " 'yaw': 1,\n",
       " 'his;': 1,\n",
       " \"silver'd.\": 1,\n",
       " 'trial': 1,\n",
       " 'concluded': 1,\n",
       " 'lists,': 1,\n",
       " 'sergeant,': 1,\n",
       " 'consent:': 1,\n",
       " 'unripe,': 1,\n",
       " 'right': 4,\n",
       " 'props': 1,\n",
       " 'hideous,': 1,\n",
       " 'quake': 1,\n",
       " 'wicked': 6,\n",
       " 'seeing,': 1,\n",
       " 'meant?': 1,\n",
       " 'word.': 1,\n",
       " 'outlives': 1,\n",
       " 'shape,': 1,\n",
       " 'meaning:': 1,\n",
       " 'weedy': 1,\n",
       " 'blasting': 1,\n",
       " 'quickness:': 1,\n",
       " 'greatly': 1,\n",
       " 'clothes,': 1,\n",
       " 'forgot:': 1,\n",
       " 'city?': 1,\n",
       " 'ourselves.': 2,\n",
       " 'sanctified': 1,\n",
       " 'temperately': 1,\n",
       " 'bitter': 2,\n",
       " 'wild': 1,\n",
       " 'deal': 1,\n",
       " 'forgetting': 1,\n",
       " 'story,': 1,\n",
       " '[advancing.]': 1,\n",
       " 'following.]': 1,\n",
       " 'stage;': 1,\n",
       " 'push.--': 1,\n",
       " 'parching': 1,\n",
       " 'nothing.': 3,\n",
       " 'offal:': 1,\n",
       " \"'the\": 3,\n",
       " 'see': 31,\n",
       " 'regards': 1,\n",
       " 'accident.': 2,\n",
       " 'cautel': 1,\n",
       " 'so?': 7,\n",
       " 'striking': 1,\n",
       " 'slay': 1,\n",
       " '[sings.]': 12,\n",
       " 'stand,--': 1,\n",
       " \"howe'er\": 1,\n",
       " 'rate,': 1,\n",
       " 'ophelia--': 1,\n",
       " 'now,': 32,\n",
       " 'weep,': 2,\n",
       " \"'gins\": 1,\n",
       " 'repulsed,--a': 1,\n",
       " 'whither': 1,\n",
       " 'tell;': 1,\n",
       " 'ye!': 1,\n",
       " 'sultry': 1,\n",
       " 'extremity': 1,\n",
       " 'strife,': 1,\n",
       " 'wilfully': 1,\n",
       " 'stop': 3,\n",
       " 'fill.': 1,\n",
       " 'fits': 2,\n",
       " 'loud,': 2,\n",
       " 'ah': 1,\n",
       " 'post.': 1,\n",
       " \"fortune's\": 5,\n",
       " 'fool;': 1,\n",
       " 'fly': 4,\n",
       " 'counsel.--come,': 1,\n",
       " 'poniards,': 1,\n",
       " 'potent': 2,\n",
       " 'see.': 3,\n",
       " 'grand': 1,\n",
       " 'treason': 3,\n",
       " 'sworn,': 1,\n",
       " 'rule,': 1,\n",
       " 'gentlewoman,': 1,\n",
       " 'shipwright,': 2,\n",
       " 'found,': 1,\n",
       " 'confusion,': 1,\n",
       " \"'fore\": 1,\n",
       " 'overpeering': 1,\n",
       " 'fruit': 2,\n",
       " 'dreams.': 1,\n",
       " 'huge': 1,\n",
       " 'restore': 1,\n",
       " 'wars,': 1,\n",
       " 'deliver,': 1,\n",
       " 'gaudy:': 1,\n",
       " 'assurance': 2,\n",
       " 'stalks': 1,\n",
       " 'painted': 2,\n",
       " \"o'er,\": 1,\n",
       " \"bark'd\": 1,\n",
       " 'one': 34,\n",
       " \"let's\": 10,\n",
       " 'blossoms': 1,\n",
       " 'i:': 1,\n",
       " 'thrift': 1,\n",
       " 'bait': 1,\n",
       " 'emulate': 1,\n",
       " 'drink.--hamlet,': 1,\n",
       " 'alack,': 3,\n",
       " 'man!': 1,\n",
       " 'forfeit,': 1,\n",
       " 'immortal': 1,\n",
       " 'avoid': 2,\n",
       " 'voyage;': 1,\n",
       " 'both.': 2,\n",
       " 'lief': 1,\n",
       " 'sequel': 1,\n",
       " 'business': 8,\n",
       " \"scholar's,\": 1,\n",
       " 'also': 1,\n",
       " 'pyrrhus:--': 1,\n",
       " 'seen;': 1,\n",
       " 'rivet': 1,\n",
       " 'lungs?': 1,\n",
       " 'officers,': 1,\n",
       " 'mother!': 1,\n",
       " 'villain?': 1,\n",
       " 'king!': 3,\n",
       " 'looked': 1,\n",
       " 'his': 295,\n",
       " 'pure:': 1,\n",
       " 'treachery.': 1,\n",
       " 'aught,': 2,\n",
       " 'pleasure.': 1,\n",
       " 'tenures,': 1,\n",
       " 'quality': 3,\n",
       " 'joyfully': 1,\n",
       " 'souls.': 1,\n",
       " 'constant': 1,\n",
       " 'act,': 4,\n",
       " \"perform'd,\": 1,\n",
       " 'pass,': 1,\n",
       " 'twelve.': 2,\n",
       " 'hardy': 1,\n",
       " \"popp'd\": 1,\n",
       " 'gleaned,': 1,\n",
       " 'hamlet,--': 2,\n",
       " 'abuse,': 1,\n",
       " 'the': 1136,\n",
       " 'sweet:': 1,\n",
       " 'o,': 57,\n",
       " 'farewell!': 2,\n",
       " 'war': 1,\n",
       " 'sword': 4,\n",
       " 'officers': 1,\n",
       " 'mend': 1,\n",
       " \"donn'd\": 1,\n",
       " 'born,--it': 1,\n",
       " 'dulls': 1,\n",
       " 'point:': 1,\n",
       " 'beasts,': 1,\n",
       " 'threaten': 1,\n",
       " 'canopy,': 1,\n",
       " 'line;--let': 1,\n",
       " 'soldiers,': 3,\n",
       " 'near': 7,\n",
       " 'fay,': 1,\n",
       " 'society': 1,\n",
       " 'joys': 1,\n",
       " 'married': 1,\n",
       " 'quoth': 1,\n",
       " 'compare': 1,\n",
       " 'sleep,': 1,\n",
       " 'fardels': 1,\n",
       " 'was,': 5,\n",
       " 'innovation.': 1,\n",
       " 'oft': 11,\n",
       " 'head.': 4,\n",
       " 'prompted': 1,\n",
       " 'seem;': 1,\n",
       " \"touch'd,\": 1,\n",
       " 'imputation': 1,\n",
       " 'in': 420,\n",
       " \"in't.--\": 1,\n",
       " 'praise': 1,\n",
       " 'affections': 1,\n",
       " 'fort.': 4,\n",
       " 'for.': 7,\n",
       " 'not': 270,\n",
       " 'prison': 2,\n",
       " 'daily': 1,\n",
       " 'doctor;': 1,\n",
       " 'messenger.]': 2,\n",
       " 'radiant': 1,\n",
       " 'deceived.': 2,\n",
       " 'loud': 1,\n",
       " 'savoury,': 1,\n",
       " 'play.]': 4,\n",
       " 'mother;': 1,\n",
       " \"ha't\": 1,\n",
       " \"gentleman.'\": 1,\n",
       " 'pebbles': 1,\n",
       " 'lesser': 1,\n",
       " 'us,--thou': 1,\n",
       " 'apart': 1,\n",
       " 'couple': 1,\n",
       " 'maimed': 1,\n",
       " 'contracted': 1,\n",
       " 'beckons.]': 1,\n",
       " 'spoke': 2,\n",
       " 'relief': 1,\n",
       " 'away,': 3,\n",
       " 'fates': 1,\n",
       " 'german': 1,\n",
       " 'heel': 1,\n",
       " \"fix'd\": 3,\n",
       " 'more,': 7,\n",
       " 'yond': 1,\n",
       " 'revenge,': 2,\n",
       " \"england's\": 1,\n",
       " 'said,': 3,\n",
       " 'no': 107,\n",
       " 'brook.': 1,\n",
       " 'grounds': 1,\n",
       " 'sinews,': 1,\n",
       " 'look': 30,\n",
       " 'showers.': 1,\n",
       " 'truant': 1,\n",
       " 'matter;': 1,\n",
       " 'calls': 4,\n",
       " 'prove,': 1,\n",
       " 'content.': 1,\n",
       " 'rewards': 1,\n",
       " \"queen'\": 1,\n",
       " 'mote': 1,\n",
       " 'flesh;': 1,\n",
       " 'loggets': 1,\n",
       " 'goes,--mark': 1,\n",
       " 'liar;': 1,\n",
       " 'maggots': 1,\n",
       " 'must,': 1,\n",
       " 'cornelius.]': 3,\n",
       " 'peace,': 2,\n",
       " 'i': 510,\n",
       " 'slightly': 1,\n",
       " 'hideous': 1,\n",
       " \"cyclops'\": 1,\n",
       " 'gentleman': 4,\n",
       " 'preceding': 1,\n",
       " 'hit,': 2,\n",
       " 'rosencrantz': 15,\n",
       " 'chapless,': 1,\n",
       " 'false': 6,\n",
       " 'even': 21,\n",
       " 'son,': 5,\n",
       " 'distraction': 1,\n",
       " 'such-like': 1,\n",
       " 'event,--': 1,\n",
       " 'thicker': 1,\n",
       " 'loss': 1,\n",
       " 'christian.--come,': 1,\n",
       " 'eye.': 3,\n",
       " 'fee.': 1,\n",
       " 'cor.': 1,\n",
       " 'creation': 1,\n",
       " 'mandate;': 1,\n",
       " 'sir?': 6,\n",
       " 'memory,': 2,\n",
       " 'speak': 42,\n",
       " 'theatre': 1,\n",
       " 'thine,': 2,\n",
       " 'dispatch,': 1,\n",
       " 'certainty': 1,\n",
       " 'dotes': 1,\n",
       " 'gifts,--': 1,\n",
       " 'batten': 1,\n",
       " \"wrong'd;\": 1,\n",
       " 'ventages': 1,\n",
       " 'desk': 1,\n",
       " 'down?': 1,\n",
       " 'blood.': 2,\n",
       " 'beast': 2,\n",
       " 'fire,--why,': 1,\n",
       " 'weakness;': 1,\n",
       " \"gonzago's\": 1,\n",
       " \"seal'd:\": 1,\n",
       " 'wait': 2,\n",
       " 'orderly': 1,\n",
       " 'lowest': 1,\n",
       " 'dangerous,': 1,\n",
       " 'strucken': 1,\n",
       " 'mischance': 2,\n",
       " 'danger:': 1,\n",
       " 'et': 1,\n",
       " 'wards,': 1,\n",
       " 'chariest': 1,\n",
       " 'narrow': 1,\n",
       " 'stands,': 2,\n",
       " 'he?': 2,\n",
       " 'sir:': 5,\n",
       " 'am': 52,\n",
       " 'breed': 1,\n",
       " 'breathe;': 1,\n",
       " 'brook,': 1,\n",
       " 'signet': 1,\n",
       " 'organ.': 1,\n",
       " 'dressed': 1,\n",
       " 'numbers;': 1,\n",
       " 'rate': 1,\n",
       " 'envious': 1,\n",
       " 'letter': 1,\n",
       " 'hither,': 5,\n",
       " 'addition': 1,\n",
       " 'compact,': 1,\n",
       " \"o'er-leavens\": 1,\n",
       " 'devil:': 1,\n",
       " 'upshot,': 1,\n",
       " 'cleave': 1,\n",
       " 'awhile,': 6,\n",
       " 'extolment,': 1,\n",
       " 'bend': 3,\n",
       " 'heroes': 1,\n",
       " 'omen': 1,\n",
       " 'crescent,': 1,\n",
       " 'seas,': 1,\n",
       " 'expostulate': 1,\n",
       " 'visit': 5,\n",
       " 'you:--why': 1,\n",
       " 'sipping,': 1,\n",
       " 'lover': 1,\n",
       " 'colour': 2,\n",
       " 'silence.': 1,\n",
       " 'neck:': 1,\n",
       " 'abominably.': 1,\n",
       " 'sworn.': 1,\n",
       " 'reechy': 1,\n",
       " 'roasted': 1,\n",
       " \"nephew's\": 2,\n",
       " 'repugnant': 1,\n",
       " 'disposition,': 1,\n",
       " 'fool.': 1,\n",
       " 'farewell,': 3,\n",
       " 'canon': 1,\n",
       " 'marcellus.': 1,\n",
       " 'builds': 2,\n",
       " 'grief;': 2,\n",
       " 'friend,': 1,\n",
       " 'tether': 1,\n",
       " 'clown': 1,\n",
       " 'history.': 1,\n",
       " 'plain': 2,\n",
       " 'clay,': 1,\n",
       " 'keep': 16,\n",
       " 'purpose': 6,\n",
       " 'hoodman-blind?': 1,\n",
       " 'up-spring': 1,\n",
       " 'fie!': 2,\n",
       " 'winnowed': 1,\n",
       " 'soul,--': 1,\n",
       " 'villanies,--': 1,\n",
       " 'dying': 1,\n",
       " 'sings.]': 1,\n",
       " 'richer': 2,\n",
       " 'true!': 1,\n",
       " 'eat,': 1,\n",
       " 'enviously': 1,\n",
       " 'seems': 5,\n",
       " 'comrade.': 1,\n",
       " 'accounted': 1,\n",
       " 'giant-like?--': 1,\n",
       " 'carried': 1,\n",
       " 'afraid': 1,\n",
       " 'believe,': 1,\n",
       " 'god-kissing': 1,\n",
       " \"man's\": 5,\n",
       " 'profound': 2,\n",
       " 'lovingly;': 1,\n",
       " 'sleep!': 1,\n",
       " 'groan.': 1,\n",
       " 'of,': 1,\n",
       " 'toe?': 1,\n",
       " 'sending.': 1,\n",
       " 'lay': 9,\n",
       " 'cicatrice': 1,\n",
       " 'whips': 2,\n",
       " 'abatements': 1,\n",
       " \"do't.--dost\": 1,\n",
       " 'present': 4,\n",
       " '[throws': 3,\n",
       " \"pursu'st\": 1,\n",
       " 'line': 1,\n",
       " 'afternoon,': 1,\n",
       " 'depart.': 1,\n",
       " \"damn'd\": 4,\n",
       " 'cease': 2,\n",
       " 'main,--': 1,\n",
       " 'free;': 1,\n",
       " 'hinges': 1,\n",
       " 'organ,': 2,\n",
       " 'recover': 3,\n",
       " 'murder!': 2,\n",
       " 'hoist': 1,\n",
       " 'twice': 4,\n",
       " 'earth.': 1,\n",
       " 'swaggering': 1,\n",
       " 'up,': 3,\n",
       " 'delays': 1,\n",
       " 'herb': 1,\n",
       " 'upon': 53,\n",
       " 'giving': 3,\n",
       " 'length': 2,\n",
       " 'conjuration': 1,\n",
       " 'furnish': 1,\n",
       " 'earth?': 1,\n",
       " 'leave,': 1,\n",
       " 'beggar': 2,\n",
       " 'harbingers': 1,\n",
       " 'loved:': 1,\n",
       " 'rub;': 1,\n",
       " 'is': 320,\n",
       " 'wonted': 2,\n",
       " 'too.': 5,\n",
       " 'bodies': 3,\n",
       " \"&c.'\": 1,\n",
       " 'wherefore?': 1,\n",
       " 'unworthy': 2,\n",
       " 'bless': 3,\n",
       " 'loves,': 2,\n",
       " 'mar.': 35,\n",
       " 'bouts': 1,\n",
       " 'list!--': 1,\n",
       " 'tragical-historical,': 1,\n",
       " 'sole': 1,\n",
       " 'easy;': 1,\n",
       " 'tears;--why': 1,\n",
       " 'manners;--that': 1,\n",
       " 'remove,': 1,\n",
       " 'broad': 2,\n",
       " 'reconcilement': 1,\n",
       " 'action': 7,\n",
       " 'whale.': 2,\n",
       " 'convenience': 1,\n",
       " 'weeps': 1,\n",
       " 'damn': 1,\n",
       " \"'for,\": 1,\n",
       " 'love,': 11,\n",
       " 'fare': 6,\n",
       " 'there;': 4,\n",
       " 'too;': 3,\n",
       " 'crust': 1,\n",
       " 'fitted.': 1,\n",
       " 'hang': 3,\n",
       " 'sanity': 1,\n",
       " 'neglected': 2,\n",
       " 'madam;': 1,\n",
       " 'soon.--': 1,\n",
       " 'race': 1,\n",
       " 'goodly': 3,\n",
       " 'womb': 1,\n",
       " 'know': 57,\n",
       " 'confine': 1,\n",
       " 'shall': 106,\n",
       " 'war;': 1,\n",
       " 'strange,': 1,\n",
       " 'foil': 1,\n",
       " 'doubt,': 1,\n",
       " 'ears,': 2,\n",
       " 'prophetic': 1,\n",
       " 'preaching': 1,\n",
       " \"outstretch'd\": 1,\n",
       " 'mining': 1,\n",
       " 'poet': 1,\n",
       " 'hast,': 2,\n",
       " 'strokes:': 1,\n",
       " 'fellies': 1,\n",
       " 'keep,': 1,\n",
       " 'chopine.': 1,\n",
       " 'cannons': 1,\n",
       " 'be;': 1,\n",
       " 'day?': 1,\n",
       " \"screen'd\": 1,\n",
       " 'poisoner': 2,\n",
       " 'courtesy': 1,\n",
       " 'powerfully': 1,\n",
       " 'witch': 1,\n",
       " 'and,--would': 1,\n",
       " 'kingly': 1,\n",
       " 'abate': 1,\n",
       " 'obeys;': 1,\n",
       " 'garments,': 1,\n",
       " 'feed?': 1,\n",
       " 'miraculous': 1,\n",
       " 'pulse,': 1,\n",
       " 'command:': 1,\n",
       " 'glowworm': 1,\n",
       " 'distracted': 2,\n",
       " 'unwilling': 1,\n",
       " 'hands': 6,\n",
       " 'resemble': 1,\n",
       " 'customary': 1,\n",
       " 'iv.': 4,\n",
       " 'uncle-father': 1,\n",
       " \"deck'd,\": 1,\n",
       " 'swallowed:': 1,\n",
       " \"reform'd\": 1,\n",
       " 'character.': 1,\n",
       " 'carve': 1,\n",
       " 'smart': 1,\n",
       " 'bawd': 1,\n",
       " 'nine;': 1,\n",
       " 'opinions;': 1,\n",
       " 'jig': 1,\n",
       " '[to': 10,\n",
       " 'happen.': 1,\n",
       " 'ills': 1,\n",
       " 'foot.': 1,\n",
       " 'him;--do': 1,\n",
       " 'this': 250,\n",
       " 'mutes,': 1,\n",
       " 'magic': 1,\n",
       " 'overthrown;': 1,\n",
       " 'last': 11,\n",
       " 'mischief.': 1,\n",
       " 'dram': 1,\n",
       " 'odds.': 2,\n",
       " 'all:--i': 1,\n",
       " 'fit.': 1,\n",
       " 'leisure,': 1,\n",
       " 'twenty,': 1,\n",
       " 'wounded': 1,\n",
       " 'buried': 5,\n",
       " 'whispers': 1,\n",
       " 'heaven?': 2,\n",
       " 'speech': 8,\n",
       " \"pronounc'd:\": 1,\n",
       " 'armed.]': 1,\n",
       " \"on't,--frailty,\": 1,\n",
       " 'thence': 3,\n",
       " \"would';--\": 1,\n",
       " 'without,': 2,\n",
       " 'which,--': 1,\n",
       " 'faith:': 1,\n",
       " 'nettles,': 1,\n",
       " 'easily': 1,\n",
       " 'surmise.': 1,\n",
       " 'graves': 2,\n",
       " \"o'\": 11,\n",
       " 'habit,': 1,\n",
       " 'falsely': 1,\n",
       " 'sin': 1,\n",
       " 'generous,': 1,\n",
       " 'many.': 1,\n",
       " 'clad,': 1,\n",
       " 'passes': 1,\n",
       " 'whore,': 1,\n",
       " 'little,': 1,\n",
       " 'eyelids': 1,\n",
       " 'fought': 1,\n",
       " 'more;': 3,\n",
       " 'dies.]': 2,\n",
       " 'known': 5,\n",
       " 'accord': 1,\n",
       " 'pastime?': 1,\n",
       " 'desires': 3,\n",
       " 'strew': 1,\n",
       " 'company,': 1,\n",
       " 'marriage-vows': 1,\n",
       " 'sables.': 1,\n",
       " 'remembrance': 2,\n",
       " 'next,': 2,\n",
       " 'gape': 1,\n",
       " 'bellow': 1,\n",
       " 'flushing': 1,\n",
       " 'strong.': 1,\n",
       " \"reveng'd\": 1,\n",
       " 'appetite': 1,\n",
       " 'bread;': 1,\n",
       " 'behind.--': 1,\n",
       " 'actors': 2,\n",
       " 'pour': 1,\n",
       " 'thus?': 2,\n",
       " 'have,': 3,\n",
       " 'philosophy': 1,\n",
       " 'forward': 1,\n",
       " 'serves': 2,\n",
       " \"might';--\": 1,\n",
       " 'rhenish': 2,\n",
       " 'world.': 1,\n",
       " 'whole': 7,\n",
       " 'fire;': 2,\n",
       " \"seal'd\": 4,\n",
       " 'observance,': 1,\n",
       " \"fang'd,--\": 1,\n",
       " 'presence;': 1,\n",
       " 'common.': 1,\n",
       " 'fancy:': 1,\n",
       " 'clapped': 1,\n",
       " 'below': 2,\n",
       " 'knowing': 1,\n",
       " 'gibes': 1,\n",
       " \"consider'd\": 1,\n",
       " 'perturbed': 1,\n",
       " 'cutpurse': 1,\n",
       " \"laps'd\": 1,\n",
       " 'offence?': 2,\n",
       " 'without.': 1,\n",
       " 'dozen': 3,\n",
       " 'wonderful!': 1,\n",
       " \"'i\": 2,\n",
       " 'salvation?': 1,\n",
       " 'corner': 1,\n",
       " 'treble': 2,\n",
       " 'lo,': 2,\n",
       " \"prov'd,--that\": 1,\n",
       " 'son--': 1,\n",
       " 'vailed': 1,\n",
       " 'debatement': 1,\n",
       " 'doubt': 9,\n",
       " '[draws': 1,\n",
       " \"sleeper's\": 1,\n",
       " 'beating;': 1,\n",
       " '[the': 5,\n",
       " 'waxes': 1,\n",
       " 'instant': 4,\n",
       " 'charge,': 2,\n",
       " 'umbrage,': 1,\n",
       " 'distilment;': 1,\n",
       " 'collection;': 1,\n",
       " 'satisfaction;': 1,\n",
       " 'divine': 1,\n",
       " 'rusty?': 1,\n",
       " ...}"
      ]
     },
     "execution_count": 97,
     "metadata": {},
     "output_type": "execute_result"
    }
   ],
   "source": [
    "tokendict={}\n",
    "for ut in uniquelctokens:\n",
    "    tokendict[ut]=hamletlctokens.count(ut)\n",
    "tokendict"
   ]
  },
  {
   "cell_type": "markdown",
   "metadata": {},
   "source": [
    "We find the 100 most used words..."
   ]
  },
  {
   "cell_type": "code",
   "execution_count": 98,
   "metadata": {
    "collapsed": false
   },
   "outputs": [
    {
     "data": {
      "text/plain": [
       "[('the', 1136),\n",
       " ('and', 943),\n",
       " ('to', 720),\n",
       " ('of', 667),\n",
       " ('a', 527),\n",
       " ('my', 512),\n",
       " ('i', 510),\n",
       " ('in', 420),\n",
       " ('you', 412),\n",
       " ('ham.', 358),\n",
       " ('that', 337),\n",
       " ('it', 324),\n",
       " ('is', 320),\n",
       " ('his', 295),\n",
       " ('not', 270),\n",
       " ('with', 264),\n",
       " ('this', 250),\n",
       " ('your', 241),\n",
       " ('for', 231),\n",
       " ('but', 228),\n",
       " ('as', 216),\n",
       " ('he', 202),\n",
       " ('be', 201),\n",
       " ('what', 183),\n",
       " ('have', 174),\n",
       " ('will', 149),\n",
       " ('so', 143),\n",
       " ('me', 142),\n",
       " ('we', 132),\n",
       " ('do', 128),\n",
       " ('are', 126),\n",
       " ('him', 122),\n",
       " ('our', 119),\n",
       " ('king.', 113),\n",
       " ('by', 111),\n",
       " ('hor.', 110),\n",
       " ('if', 109),\n",
       " ('or', 109),\n",
       " ('on', 109),\n",
       " ('no', 107),\n",
       " ('shall', 106),\n",
       " ('from', 95),\n",
       " ('thou', 95),\n",
       " ('all', 95),\n",
       " ('they', 93),\n",
       " ('let', 92),\n",
       " ('good', 88),\n",
       " ('pol.', 86),\n",
       " ('thy', 86),\n",
       " ('at', 86),\n",
       " ('how', 84),\n",
       " ('most', 82),\n",
       " ('lord,', 81),\n",
       " ('queen.', 76),\n",
       " ('her', 76),\n",
       " ('more', 76),\n",
       " ('like', 75),\n",
       " ('would', 74),\n",
       " ('was', 73),\n",
       " (\"'tis\", 70),\n",
       " ('you,', 66),\n",
       " ('may', 65),\n",
       " ('very', 64),\n",
       " ('laer.', 62),\n",
       " ('hath', 62),\n",
       " ('[enter', 61),\n",
       " ('lord.', 60),\n",
       " ('did', 59),\n",
       " ('give', 58),\n",
       " ('oph.', 58),\n",
       " ('must', 58),\n",
       " ('o,', 57),\n",
       " ('know', 57),\n",
       " ('their', 57),\n",
       " (\"i'll\", 56),\n",
       " ('an', 55),\n",
       " ('which', 55),\n",
       " ('should', 55),\n",
       " ('when', 54),\n",
       " ('some', 54),\n",
       " ('come', 54),\n",
       " ('upon', 53),\n",
       " ('make', 53),\n",
       " ('am', 52),\n",
       " ('such', 51),\n",
       " ('than', 51),\n",
       " ('ros.', 51),\n",
       " ('there', 50),\n",
       " ('where', 49),\n",
       " ('now', 48),\n",
       " ('go', 48),\n",
       " ('us', 46),\n",
       " ('o', 46),\n",
       " ('clown.', 45),\n",
       " ('them', 44),\n",
       " ('had', 44),\n",
       " ('much', 44),\n",
       " ('these', 44),\n",
       " ('out', 43),\n",
       " ('she', 43)]"
      ]
     },
     "execution_count": 98,
     "metadata": {},
     "output_type": "execute_result"
    }
   ],
   "source": [
    "\n",
    "L=sorted(tokendict.items(), key = lambda x : x[1], reverse=True)[:100]\n",
    "L"
   ]
  },
  {
   "cell_type": "markdown",
   "metadata": {},
   "source": [
    "Lets get the top 20 of this and plot a bar chart!"
   ]
  },
  {
   "cell_type": "code",
   "execution_count": 48,
   "metadata": {
    "collapsed": false
   },
   "outputs": [
    {
     "name": "stdout",
     "output_type": "stream",
     "text": [
      "[('the', 1136), ('and', 943), ('to', 720), ('of', 667), ('a', 527), ('my', 512), ('i', 510), ('in', 420), ('you', 412), ('ham.', 358), ('that', 337), ('it', 324), ('is', 320), ('his', 295), ('not', 270), ('with', 264), ('this', 250), ('your', 241), ('for', 231), ('but', 228)]\n"
     ]
    },
    {
     "data": {
      "image/png": "[encoded data removed]",
      "text/plain": [
       "<matplotlib.figure.Figure at 0x113d55208>"
      ]
     },
     "metadata": {},
     "output_type": "display_data"
    }
   ],
   "source": [
    "topfreq=L[:20]\n",
    "print(topfreq)\n",
    "pos = np.arange(len(topfreq))\n",
    "plt.bar(pos, [e[1] for e in topfreq]);\n",
    "plt.xticks(pos+0.4, [e[0] for e in topfreq]);"
   ]
  }
 ],
 "metadata": {
  "kernelspec": {
   "display_name": "Python [py35]",
   "language": "python",
   "name": "Python [py35]"
  },
  "language_info": {
   "codemirror_mode": {
    "name": "ipython",
    "version": 3
   },
   "file_extension": ".py",
   "mimetype": "text/x-python",
   "name": "python",
   "nbconvert_exporter": "python",
   "pygments_lexer": "ipython3",
   "version": "3.5.2"
  }
 },
 "nbformat": 4,
 "nbformat_minor": 0
}
